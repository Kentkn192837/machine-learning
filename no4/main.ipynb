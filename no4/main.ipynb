{
 "cells": [
  {
   "cell_type": "code",
   "execution_count": 1,
   "id": "587be91b-2cb4-4139-8199-761d452db2f8",
   "metadata": {},
   "outputs": [],
   "source": [
    "import numpy as np\n",
    "import matplotlib.pyplot as plt\n",
    "%matplotlib inline"
   ]
  },
  {
   "cell_type": "code",
   "execution_count": 2,
   "id": "ff127c13-1911-408c-bb96-7d632dff0dcc",
   "metadata": {},
   "outputs": [
    {
     "data": {
      "text/plain": [
       "array([0, 1, 0, 0, 0])"
      ]
     },
     "execution_count": 2,
     "metadata": {},
     "output_type": "execute_result"
    }
   ],
   "source": [
    "np.random.seed(42)\n",
    "y_true = np.random.randint(0, 2, size=5)\n",
    "y_true"
   ]
  },
  {
   "cell_type": "code",
   "execution_count": 3,
   "id": "1c2d4dfb-0a5c-4fcb-853c-f58d631fe5fe",
   "metadata": {},
   "outputs": [
    {
     "data": {
      "text/plain": [
       "array([1, 1, 1, 1, 1])"
      ]
     },
     "execution_count": 3,
     "metadata": {},
     "output_type": "execute_result"
    }
   ],
   "source": [
    "y_pred = np.ones(5, dtype=np.int32)\n",
    "y_pred"
   ]
  },
  {
   "cell_type": "code",
   "execution_count": 4,
   "id": "0eb5c82a-e951-44f1-bc5b-0a376522bb55",
   "metadata": {},
   "outputs": [
    {
     "data": {
      "text/plain": [
       "array([False,  True, False, False, False])"
      ]
     },
     "execution_count": 4,
     "metadata": {},
     "output_type": "execute_result"
    }
   ],
   "source": [
    "y_true == y_pred"
   ]
  },
  {
   "cell_type": "code",
   "execution_count": 5,
   "id": "bf63bc97-2bec-4d1f-a55c-c92dd0a664d4",
   "metadata": {},
   "outputs": [
    {
     "data": {
      "text/plain": [
       "numpy.ndarray"
      ]
     },
     "execution_count": 5,
     "metadata": {},
     "output_type": "execute_result"
    }
   ],
   "source": [
    "type(y_true)"
   ]
  },
  {
   "cell_type": "code",
   "execution_count": 6,
   "id": "f9cee063-08f9-4a71-8561-28a99307e4ae",
   "metadata": {},
   "outputs": [
    {
     "data": {
      "text/plain": [
       "1"
      ]
     },
     "execution_count": 6,
     "metadata": {},
     "output_type": "execute_result"
    }
   ],
   "source": [
    "np.sum(y_true == y_pred)"
   ]
  },
  {
   "cell_type": "code",
   "execution_count": 7,
   "id": "5a625bb9-fd09-42ac-83f4-bded00c7e570",
   "metadata": {},
   "outputs": [
    {
     "data": {
      "text/plain": [
       "0.2"
      ]
     },
     "execution_count": 7,
     "metadata": {},
     "output_type": "execute_result"
    }
   ],
   "source": [
    "np.sum(y_true == y_pred) / len(y_true)"
   ]
  },
  {
   "cell_type": "code",
   "execution_count": 8,
   "id": "dfcae9d6-0f6d-4aea-af6b-4e8fd6f9f405",
   "metadata": {},
   "outputs": [
    {
     "data": {
      "text/plain": [
       "0.2"
      ]
     },
     "execution_count": 8,
     "metadata": {},
     "output_type": "execute_result"
    }
   ],
   "source": [
    "from sklearn import metrics\n",
    "metrics.accuracy_score(y_true, y_pred)"
   ]
  },
  {
   "cell_type": "code",
   "execution_count": 9,
   "id": "392e875a-9219-4854-bebd-5e1583dfea2c",
   "metadata": {},
   "outputs": [
    {
     "data": {
      "text/plain": [
       "array([False,  True, False, False, False])"
      ]
     },
     "execution_count": 9,
     "metadata": {},
     "output_type": "execute_result"
    }
   ],
   "source": [
    "truly_a_positive = (y_true == 1)\n",
    "predicted_a_positive = (y_pred == 1)\n",
    "truly_a_positive"
   ]
  },
  {
   "cell_type": "code",
   "execution_count": 10,
   "id": "55982e15-0332-46b1-8b92-8f753346614b",
   "metadata": {},
   "outputs": [
    {
     "name": "stdout",
     "output_type": "stream",
     "text": [
      "[False  True False False False]\n",
      "1\n"
     ]
    }
   ],
   "source": [
    "# 真陽性\n",
    "true_positive = np.sum(predicted_a_positive * truly_a_positive)\n",
    "print(predicted_a_positive * truly_a_positive)\n",
    "print(true_positive)"
   ]
  },
  {
   "cell_type": "code",
   "execution_count": 11,
   "id": "54637cdb-6ad1-4602-9213-7dc839da63d0",
   "metadata": {},
   "outputs": [
    {
     "data": {
      "text/plain": [
       "4"
      ]
     },
     "execution_count": 11,
     "metadata": {},
     "output_type": "execute_result"
    }
   ],
   "source": [
    "false_positive = np.sum((y_pred == 1) * (y_true == 0))\n",
    "false_positive"
   ]
  },
  {
   "cell_type": "code",
   "execution_count": 12,
   "id": "0316c031-7388-40c4-8165-12bb8e077139",
   "metadata": {},
   "outputs": [
    {
     "data": {
      "text/plain": [
       "0.2"
      ]
     },
     "execution_count": 12,
     "metadata": {},
     "output_type": "execute_result"
    }
   ],
   "source": [
    "false_negative = np.sum((y_pred == 0) * (y_true == 1))\n",
    "true_negative = np.sum((y_pred == 0) * (y_true == 0))\n",
    "accuracy = np.sum(true_positive + true_negative) / len(y_true)\n",
    "accuracy"
   ]
  },
  {
   "cell_type": "code",
   "execution_count": 13,
   "id": "cbab5b36-4e23-4aa2-a36e-33b710e5190c",
   "metadata": {},
   "outputs": [
    {
     "data": {
      "text/plain": [
       "0.2"
      ]
     },
     "execution_count": 13,
     "metadata": {},
     "output_type": "execute_result"
    }
   ],
   "source": [
    "precision = np.sum(true_positive) / np.sum(true_positive + false_positive)\n",
    "precision"
   ]
  },
  {
   "cell_type": "code",
   "execution_count": 14,
   "id": "8f9709ad-028f-4599-8952-c29b6b71295c",
   "metadata": {},
   "outputs": [
    {
     "data": {
      "text/plain": [
       "0.2"
      ]
     },
     "execution_count": 14,
     "metadata": {},
     "output_type": "execute_result"
    }
   ],
   "source": [
    "metrics.precision_score(y_true, y_pred)"
   ]
  },
  {
   "cell_type": "code",
   "execution_count": 15,
   "id": "1dff7d6d-58f4-4d0a-8af4-fc27c3b47e1d",
   "metadata": {},
   "outputs": [
    {
     "data": {
      "text/plain": [
       "1.0"
      ]
     },
     "execution_count": 15,
     "metadata": {},
     "output_type": "execute_result"
    }
   ],
   "source": [
    "recall = true_positive / (true_positive + false_negative)\n",
    "recall"
   ]
  },
  {
   "cell_type": "code",
   "execution_count": 16,
   "id": "e68d6816-f959-4af3-a9e4-c04ca1c4b938",
   "metadata": {},
   "outputs": [
    {
     "data": {
      "text/plain": [
       "1.0"
      ]
     },
     "execution_count": 16,
     "metadata": {},
     "output_type": "execute_result"
    }
   ],
   "source": [
    "metrics.recall_score(y_true, y_pred)"
   ]
  },
  {
   "cell_type": "code",
   "execution_count": 17,
   "id": "b8118ed7-51e9-4dc4-bf98-b216dea7d4a7",
   "metadata": {},
   "outputs": [
    {
     "data": {
      "text/plain": [
       "100"
      ]
     },
     "execution_count": 17,
     "metadata": {},
     "output_type": "execute_result"
    }
   ],
   "source": [
    "x = np.linspace(0, 10, 100)\n",
    "x.size"
   ]
  },
  {
   "cell_type": "code",
   "execution_count": 18,
   "id": "42ed05fa-7666-48e4-ac83-5c0b48327dc5",
   "metadata": {},
   "outputs": [],
   "source": [
    "y_true = np.sin(x) + np.random.rand(x.size) - 0.5\n",
    "y_pred = np.sin(x)"
   ]
  },
  {
   "cell_type": "code",
   "execution_count": 19,
   "id": "0b54db7e-7a85-45fe-aee6-7762c943cae4",
   "metadata": {},
   "outputs": [
    {
     "data": {
      "image/png": "[encoded data removed]",
      "text/plain": [
       "<Figure size 432x288 with 1 Axes>"
      ]
     },
     "metadata": {},
     "output_type": "display_data"
    }
   ],
   "source": [
    "plt.style.use('ggplot')\n",
    "plt.plot(x, y_pred, linewidth=4, label='model')\n",
    "plt.plot(x, y_true, 'o', label='data')\n",
    "plt.xlabel('x')\n",
    "plt.ylabel('y')\n",
    "plt.legend(loc='lower left')\n",
    "plt.show()"
   ]
  },
  {
   "cell_type": "code",
   "execution_count": 20,
   "id": "9fdda509-d388-4a1e-bd88-62eb65cc5e4b",
   "metadata": {},
   "outputs": [
    {
     "data": {
      "text/plain": [
       "0.08531839480842378"
      ]
     },
     "execution_count": 20,
     "metadata": {},
     "output_type": "execute_result"
    }
   ],
   "source": [
    "# 平均二乗誤差(MSE)\n",
    "mse = np.mean((y_true - y_pred) ** 2)\n",
    "mse"
   ]
  },
  {
   "cell_type": "code",
   "execution_count": 21,
   "id": "63ee28c4-b8f7-4408-93dd-eaa86404abb6",
   "metadata": {},
   "outputs": [
    {
     "data": {
      "text/plain": [
       "0.08531839480842378"
      ]
     },
     "execution_count": 21,
     "metadata": {},
     "output_type": "execute_result"
    }
   ],
   "source": [
    "mse = metrics.mean_squared_error(y_true, y_pred)\n",
    "mse"
   ]
  },
  {
   "cell_type": "code",
   "execution_count": 22,
   "id": "c4e7c217-31ad-4f36-849d-5444325634ad",
   "metadata": {},
   "outputs": [
    {
     "name": "stdout",
     "output_type": "stream",
     "text": [
      "0.163970326266295\n",
      "0.836029673733705\n"
     ]
    }
   ],
   "source": [
    "# 非説明分散量\n",
    "fvu = np.var(y_true - y_pred)/ np.var(y_true)\n",
    "print(fvu)\n",
    "fve = 1.0 - fvu\n",
    "print(fve)"
   ]
  },
  {
   "cell_type": "code",
   "execution_count": 23,
   "id": "6c584667-e29d-4744-aa0f-69a4e4bc3c34",
   "metadata": {},
   "outputs": [
    {
     "data": {
      "text/plain": [
       "0.836029673733705"
      ]
     },
     "execution_count": 23,
     "metadata": {},
     "output_type": "execute_result"
    }
   ],
   "source": [
    "metrics.explained_variance_score(y_true, y_pred)"
   ]
  },
  {
   "cell_type": "code",
   "execution_count": 24,
   "id": "0aeeda20-4558-4b70-9c56-f8282d2782d2",
   "metadata": {},
   "outputs": [
    {
     "data": {
      "text/plain": [
       "0.8358169419264746"
      ]
     },
     "execution_count": 24,
     "metadata": {},
     "output_type": "execute_result"
    }
   ],
   "source": [
    "# R二乗スコア(決定係数)\n",
    "r2 = 1.0 - mse / np.var(y_true)\n",
    "r2"
   ]
  },
  {
   "cell_type": "code",
   "execution_count": 25,
   "id": "282d9430-7f34-45b7-96b1-c55a73a49fbc",
   "metadata": {},
   "outputs": [
    {
     "data": {
      "text/plain": [
       "0.8358169419264746"
      ]
     },
     "execution_count": 25,
     "metadata": {},
     "output_type": "execute_result"
    }
   ],
   "source": [
    "metrics.r2_score(y_true, y_pred)"
   ]
  }
 ],
 "metadata": {
  "kernelspec": {
   "display_name": "Python 3",
   "language": "python",
   "name": "python3"
  },
  "language_info": {
   "codemirror_mode": {
    "name": "ipython",
    "version": 3
   },
   "file_extension": ".py",
   "mimetype": "text/x-python",
   "name": "python",
   "nbconvert_exporter": "python",
   "pygments_lexer": "ipython3",
   "version": "3.8.5"
  }
 },
 "nbformat": 4,
 "nbformat_minor": 5
}
