{
 "cells": [
  {
   "cell_type": "code",
   "execution_count": 1,
   "id": "c6e7136b-cf40-4835-bc31-2f6477f89334",
   "metadata": {},
   "outputs": [],
   "source": [
    "import cv2\n",
    "import numpy as np\n",
    "from matplotlib import pyplot as plt\n",
    "%matplotlib inline\n",
    "np.random.seed(42)"
   ]
  },
  {
   "cell_type": "code",
   "execution_count": 2,
   "id": "b510327c-5498-4e12-9a21-778a5737f849",
   "metadata": {},
   "outputs": [
    {
     "name": "stdout",
     "output_type": "stream",
     "text": [
      "data_size:(11, 2)\n",
      "label_size:(11, 1)\n"
     ]
    }
   ],
   "source": [
    "def generate_data(num_samples, num_features=2):\n",
    "    data_size = (num_samples, num_features)\n",
    "    print('data_size:{}'.format(data_size))\n",
    "    train_data = np.random.randint(0, 100, size=data_size) # num_samples × num_features の配列を作る\n",
    "    label_size = (num_samples, 1)\n",
    "    print('label_size:{}'.format(label_size))\n",
    "    labels = np.random.randint(0, 2, size=label_size)\n",
    "    return train_data.astype(np.float32), labels\n",
    "train_data, labels = generate_data(11)"
   ]
  },
  {
   "cell_type": "code",
   "execution_count": 3,
   "id": "b9867815-a468-4a3a-bb1e-9376ebd0700a",
   "metadata": {},
   "outputs": [
    {
     "data": {
      "text/plain": [
       "array([[51., 92.],\n",
       "       [14., 71.],\n",
       "       [60., 20.],\n",
       "       [82., 86.],\n",
       "       [74., 74.],\n",
       "       [87., 99.],\n",
       "       [23.,  2.],\n",
       "       [21., 52.],\n",
       "       [ 1., 87.],\n",
       "       [29., 37.],\n",
       "       [ 1., 63.]], dtype=float32)"
      ]
     },
     "execution_count": 3,
     "metadata": {},
     "output_type": "execute_result"
    }
   ],
   "source": [
    "train_data"
   ]
  },
  {
   "cell_type": "code",
   "execution_count": 4,
   "id": "78cc7665-e20e-40de-90a5-5b8d000e8343",
   "metadata": {},
   "outputs": [
    {
     "data": {
      "text/plain": [
       "array([[1],\n",
       "       [0],\n",
       "       [0],\n",
       "       [1],\n",
       "       [1],\n",
       "       [1],\n",
       "       [0],\n",
       "       [1],\n",
       "       [0],\n",
       "       [0],\n",
       "       [0]])"
      ]
     },
     "execution_count": 4,
     "metadata": {},
     "output_type": "execute_result"
    }
   ],
   "source": [
    "labels"
   ]
  },
  {
   "cell_type": "code",
   "execution_count": 5,
   "id": "879de7f8-0a71-4a64-940e-af95f801e2b8",
   "metadata": {},
   "outputs": [
    {
     "data": {
      "text/plain": [
       "array([False,  True,  True, False, False, False,  True, False,  True,\n",
       "        True,  True])"
      ]
     },
     "execution_count": 5,
     "metadata": {},
     "output_type": "execute_result"
    }
   ],
   "source": [
    "labels.ravel() == 0"
   ]
  },
  {
   "cell_type": "code",
   "execution_count": 6,
   "id": "5f4ea2c0-0041-45d6-9f44-e3343a78e5f3",
   "metadata": {},
   "outputs": [
    {
     "data": {
      "text/plain": [
       "array([[14., 71.],\n",
       "       [60., 20.],\n",
       "       [23.,  2.],\n",
       "       [ 1., 87.],\n",
       "       [29., 37.],\n",
       "       [ 1., 63.]], dtype=float32)"
      ]
     },
     "execution_count": 6,
     "metadata": {},
     "output_type": "execute_result"
    }
   ],
   "source": [
    "blue = train_data[labels.ravel() == 0]\n",
    "blue"
   ]
  },
  {
   "cell_type": "code",
   "execution_count": 7,
   "id": "6689624c-d579-43ff-ae10-018e91719a43",
   "metadata": {},
   "outputs": [
    {
     "data": {
      "text/plain": [
       "array([[51., 92.],\n",
       "       [82., 86.],\n",
       "       [74., 74.],\n",
       "       [87., 99.],\n",
       "       [21., 52.]], dtype=float32)"
      ]
     },
     "execution_count": 7,
     "metadata": {},
     "output_type": "execute_result"
    }
   ],
   "source": [
    "red = train_data[labels.ravel() == 1]\n",
    "red"
   ]
  },
  {
   "cell_type": "code",
   "execution_count": 8,
   "id": "77acd956-fc9e-46bf-b501-fca1add0414c",
   "metadata": {},
   "outputs": [
    {
     "data": {
      "image/png": "[encoded data removed]",
      "text/plain": [
       "<Figure size 432x288 with 1 Axes>"
      ]
     },
     "metadata": {
      "needs_background": "light"
     },
     "output_type": "display_data"
    }
   ],
   "source": [
    "def plot_data(all_blue, all_red):\n",
    "    plt.scatter(all_blue[:, 0], all_blue[:, 1], c='b', marker='s', s=32) # c:色, s:サイズ\n",
    "    plt.scatter(all_red[:, 0], all_red[:, 1], c='r', marker='^', s=32)\n",
    "    plt.xlabel('x coordinate (feature 1)')\n",
    "    plt.ylabel('y coordinate (feature 2)')\n",
    "    plt.show()\n",
    "plot_data(blue, red)"
   ]
  },
  {
   "cell_type": "code",
   "execution_count": 9,
   "id": "f4cce324-7787-4e94-aacf-1c79afa4f203",
   "metadata": {},
   "outputs": [
    {
     "data": {
      "text/plain": [
       "True"
      ]
     },
     "execution_count": 9,
     "metadata": {},
     "output_type": "execute_result"
    }
   ],
   "source": [
    "# k-NN分類器のインスタンス化\n",
    "knn = cv2.ml.KNearest_create()\n",
    "knn.train(train_data, cv2.ml.ROW_SAMPLE, labels)"
   ]
  },
  {
   "cell_type": "code",
   "execution_count": 10,
   "id": "58deba6b-6f25-4688-820d-4702f33889bf",
   "metadata": {},
   "outputs": [
    {
     "name": "stdout",
     "output_type": "stream",
     "text": [
      "data_size:(1, 2)\n",
      "label_size:(1, 1)\n"
     ]
    },
    {
     "data": {
      "text/plain": [
       "array([[58., 41.]], dtype=float32)"
      ]
     },
     "execution_count": 10,
     "metadata": {},
     "output_type": "execute_result"
    }
   ],
   "source": [
    "newcomer, _ = generate_data(1)\n",
    "newcomer"
   ]
  },
  {
   "cell_type": "code",
   "execution_count": 11,
   "id": "0b01463d-b02f-4d84-92ff-23096a63755b",
   "metadata": {},
   "outputs": [
    {
     "data": {
      "image/png": "[encoded data removed]",
      "text/plain": [
       "<Figure size 432x288 with 1 Axes>"
      ]
     },
     "metadata": {
      "needs_background": "light"
     },
     "output_type": "display_data"
    }
   ],
   "source": [
    "plt.plot(newcomer[0, 0], newcomer[0, 1], 'go', markersize=14); # ;を追加することで「[<matplotlib.lines.Line2D at 0x1bc48ea98b0>]」という出力をしない設定にすることができる\n",
    "plot_data(blue, red)"
   ]
  },
  {
   "cell_type": "code",
   "execution_count": 12,
   "id": "1fd6d274-9e58-4a74-8e66-6959ea17354b",
   "metadata": {},
   "outputs": [
    {
     "name": "stdout",
     "output_type": "stream",
     "text": [
      "Predicted label:\t [[0.]]\n",
      "Neighbor's label:\t [[0.]]\n",
      "Distance to neighbor:\t [[445.]]\n"
     ]
    }
   ],
   "source": [
    "ret, results, neighbor, dist = knn.findNearest(newcomer, 1)\n",
    "print(\"Predicted label:\\t\", results)\n",
    "print(\"Neighbor's label:\\t\", neighbor)\n",
    "print(\"Distance to neighbor:\\t\", dist)"
   ]
  },
  {
   "cell_type": "code",
   "execution_count": 13,
   "id": "b6d4ff83-fa1c-4b59-8d4e-5c6dfcc32ce4",
   "metadata": {},
   "outputs": [
    {
     "name": "stdout",
     "output_type": "stream",
     "text": [
      "Predicted label:\t [[1.]]\n",
      "Neighbor's label:\t [[0. 0. 1. 1. 1. 1. 0.]]\n",
      "Distance to neighbor:\t [[ 445.  857. 1345. 1490. 2601. 2650. 2746.]]\n"
     ]
    }
   ],
   "source": [
    "ret, results, neighbor, dist = knn.findNearest(newcomer, 7)\n",
    "print(\"Predicted label:\\t\", results)\n",
    "print(\"Neighbor's label:\\t\", neighbor)\n",
    "print(\"Distance to neighbor:\\t\", dist)"
   ]
  }
 ],
 "metadata": {
  "kernelspec": {
   "display_name": "Python 3",
   "language": "python",
   "name": "python3"
  },
  "language_info": {
   "codemirror_mode": {
    "name": "ipython",
    "version": 3
   },
   "file_extension": ".py",
   "mimetype": "text/x-python",
   "name": "python",
   "nbconvert_exporter": "python",
   "pygments_lexer": "ipython3",
   "version": "3.8.5"
  }
 },
 "nbformat": 4,
 "nbformat_minor": 5
}
