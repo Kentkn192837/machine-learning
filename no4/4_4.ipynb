{
 "cells": [
  {
   "cell_type": "markdown",
   "id": "59d94200-c366-415f-bb96-b01f4a79a0c5",
   "metadata": {},
   "source": [
    "# テキスト特徴の表現方法\n",
    "\n",
    "scikit-learnでは\"テキスト特徴(text features)\"を簡単に符号化する方法が提供されている。"
   ]
  },
  {
   "cell_type": "code",
   "execution_count": 1,
   "id": "ed3974fd-7fb5-4a4e-999d-58f4272312c0",
   "metadata": {},
   "outputs": [],
   "source": [
    "sample = [\n",
    "    'feature engineering',\n",
    "    'feature selection',\n",
    "    'feature extraction'\n",
    "]"
   ]
  },
  {
   "cell_type": "markdown",
   "id": "aa362f06-5496-4f67-ae91-aaa368eca071",
   "metadata": {},
   "source": [
    "このようなデータを符号化する最も簡単な方法の一つは、単語数によるものである。以下では各単語の出現数を数える方法を紹介する。"
   ]
  },
  {
   "cell_type": "code",
   "execution_count": 2,
   "id": "df29d40c-cfb0-411e-988f-4d5b1cb9265b",
   "metadata": {},
   "outputs": [
    {
     "data": {
      "text/plain": [
       "<3x4 sparse matrix of type '<class 'numpy.int64'>'\n",
       "\twith 6 stored elements in Compressed Sparse Row format>"
      ]
     },
     "execution_count": 2,
     "metadata": {},
     "output_type": "execute_result"
    }
   ],
   "source": [
    "from sklearn.feature_extraction.text import CountVectorizer\n",
    "\n",
    "vec = CountVectorizer()\n",
    "X = vec.fit_transform(sample)\n",
    "X"
   ]
  },
  {
   "cell_type": "code",
   "execution_count": 3,
   "id": "ad49f229-0a8a-4700-b69c-123c6abbdf3f",
   "metadata": {},
   "outputs": [
    {
     "data": {
      "text/plain": [
       "array([[1, 0, 1, 0],\n",
       "       [0, 0, 1, 1],\n",
       "       [0, 1, 1, 0]], dtype=int64)"
      ]
     },
     "execution_count": 3,
     "metadata": {},
     "output_type": "execute_result"
    }
   ],
   "source": [
    "X.toarray()"
   ]
  },
  {
   "cell_type": "code",
   "execution_count": 4,
   "id": "5edf80ea-4095-41a8-ae54-e97ccaef6467",
   "metadata": {},
   "outputs": [
    {
     "data": {
      "text/plain": [
       "['engineering', 'extraction', 'feature', 'selection']"
      ]
     },
     "execution_count": 4,
     "metadata": {},
     "output_type": "execute_result"
    }
   ],
   "source": [
    "# 特徴名の出力\n",
    "vec.get_feature_names()"
   ]
  },
  {
   "cell_type": "markdown",
   "id": "6ff8eade-acb1-4c57-8240-a1267fcff160",
   "metadata": {},
   "source": [
    "## TF-IDF(term frequency-inverse document frequency)単語用語頻度･逆文書頻度\n",
    "その単語がどのくらいの頻度で出現するか(IDF)によって、単語数(TF)の重み付けを行う。<br>\n",
    "`from sklearn.feature_extraction.text import TfidfVectorizer`"
   ]
  },
  {
   "cell_type": "code",
   "execution_count": 5,
   "id": "16ec3ab3-9148-4346-aa8c-5a3646c3e31a",
   "metadata": {},
   "outputs": [
    {
     "data": {
      "text/plain": [
       "array([[0.861037  , 0.        , 0.50854232, 0.        ],\n",
       "       [0.        , 0.        , 0.50854232, 0.861037  ],\n",
       "       [0.        , 0.861037  , 0.50854232, 0.        ]])"
      ]
     },
     "execution_count": 5,
     "metadata": {},
     "output_type": "execute_result"
    }
   ],
   "source": [
    "from sklearn.feature_extraction.text import TfidfVectorizer\n",
    "\n",
    "vec = TfidfVectorizer()\n",
    "X = vec.fit_transform(sample)\n",
    "X.toarray()"
   ]
  },
  {
   "cell_type": "code",
   "execution_count": 6,
   "id": "005a11af-3b99-4370-9d7b-dc31dc9ae9ec",
   "metadata": {},
   "outputs": [
    {
     "data": {
      "text/plain": [
       "['engineering', 'extraction', 'feature', 'selection']"
      ]
     },
     "execution_count": 6,
     "metadata": {},
     "output_type": "execute_result"
    }
   ],
   "source": [
    "vec.get_feature_names()"
   ]
  }
 ],
 "metadata": {
  "kernelspec": {
   "display_name": "Python 3",
   "language": "python",
   "name": "python3"
  },
  "language_info": {
   "codemirror_mode": {
    "name": "ipython",
    "version": 3
   },
   "file_extension": ".py",
   "mimetype": "text/x-python",
   "name": "python",
   "nbconvert_exporter": "python",
   "pygments_lexer": "ipython3",
   "version": "3.8.5"
  }
 },
 "nbformat": 4,
 "nbformat_minor": 5
}
