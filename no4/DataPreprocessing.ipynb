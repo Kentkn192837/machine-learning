{
 "cells": [
  {
   "cell_type": "markdown",
   "id": "df0a6dce-1633-4265-a40b-5b0569159aaf",
   "metadata": {},
   "source": [
    "## 特徴量の標準化\n",
    "### 標準化とは\n",
    "- 平均が0かつ単位分散になるようにデータを縮尺変換すること\n",
    "特徴量:$x$, 平均:$\\mu$, 分散:$\\sigma$\n",
    "$$\n",
    "\\frac{x - \\mu}{\\sigma}\n",
    "$$"
   ]
  },
  {
   "cell_type": "code",
   "execution_count": 1,
   "id": "ddfddd8b-f3d4-4a31-b73f-09816e43a26b",
   "metadata": {},
   "outputs": [
    {
     "name": "stdout",
     "output_type": "stream",
     "text": [
      "[[-0.26726124 -1.33630621  1.33630621]\n",
      " [ 1.33630621  0.26726124 -0.26726124]\n",
      " [-1.06904497  1.06904497 -1.06904497]]\n"
     ]
    }
   ],
   "source": [
    "from sklearn import preprocessing\n",
    "import numpy as np\n",
    "X = np.array([[1., -2., 2.],\n",
    "              [3., 0., 0.],\n",
    "              [0., 1., -1.]])\n",
    "\n",
    "# sklearn.preprocessing.scale()で標準化を行う\n",
    "X_scaled = preprocessing.scale(X)\n",
    "print(X_scaled)"
   ]
  },
  {
   "cell_type": "markdown",
   "id": "22827db5-5179-4d6e-9219-5c2d4f4a07ba",
   "metadata": {},
   "source": [
    "本当に標準化されたかどうか、実際に平均と分散を出力して確認する。標準化された特徴行列の平均値は、すべての行でほとんど0でなければならない。"
   ]
  },
  {
   "cell_type": "code",
   "execution_count": 2,
   "id": "5f62a59d-0c8c-4f97-9895-62b956695dce",
   "metadata": {},
   "outputs": [
    {
     "data": {
      "text/plain": [
       "array([7.40148683e-17, 0.00000000e+00, 0.00000000e+00])"
      ]
     },
     "execution_count": 2,
     "metadata": {},
     "output_type": "execute_result"
    }
   ],
   "source": [
    "# 平均を出力\n",
    "X_scaled.mean(axis=0)"
   ]
  },
  {
   "cell_type": "markdown",
   "id": "81127a7f-ac7d-464c-a834-628db63ec534",
   "metadata": {},
   "source": [
    "さらに、標準化された特徴行列ならば、すべての行は、分散値が1となっているはずである。"
   ]
  },
  {
   "cell_type": "code",
   "execution_count": 3,
   "id": "690d87ce-8fda-4e5f-953e-20b28c2369f6",
   "metadata": {},
   "outputs": [
    {
     "data": {
      "text/plain": [
       "array([1., 1., 1.])"
      ]
     },
     "execution_count": 3,
     "metadata": {},
     "output_type": "execute_result"
    }
   ],
   "source": [
    "# 標準偏差を出力\n",
    "X_scaled.std(axis=0)"
   ]
  },
  {
   "cell_type": "markdown",
   "id": "dc70fedc-5946-439a-a133-68f90bdf7787",
   "metadata": {},
   "source": [
    "## 特徴量の正規化\n",
    "### 正規化とは\n",
    "- 各標本を単位長に縮尺変換すること。\n",
    "\n",
    "変換の手法としては、L1ノルム(マンハッタン距離)、L2ノルム(ユークリッド距離)がある。"
   ]
  },
  {
   "cell_type": "code",
   "execution_count": 4,
   "id": "9df21491-0543-4156-8ba9-c26de9dd82d7",
   "metadata": {},
   "outputs": [
    {
     "data": {
      "text/plain": [
       "array([[ 0.2, -0.4,  0.4],\n",
       "       [ 1. ,  0. ,  0. ],\n",
       "       [ 0. ,  0.5, -0.5]])"
      ]
     },
     "execution_count": 4,
     "metadata": {},
     "output_type": "execute_result"
    }
   ],
   "source": [
    "# マンハッタン距離での正規化\n",
    "X_normalized_l1 = preprocessing.normalize(X, norm='l1')\n",
    "X_normalized_l1"
   ]
  },
  {
   "cell_type": "code",
   "execution_count": 5,
   "id": "6585cf00-a253-4be7-8e88-f40402ad539a",
   "metadata": {},
   "outputs": [
    {
     "data": {
      "text/plain": [
       "array([[ 0.33333333, -0.66666667,  0.66666667],\n",
       "       [ 1.        ,  0.        ,  0.        ],\n",
       "       [ 0.        ,  0.70710678, -0.70710678]])"
      ]
     },
     "execution_count": 5,
     "metadata": {},
     "output_type": "execute_result"
    }
   ],
   "source": [
    "# ユークリッド距離での正規化\n",
    "X_normalized_l2 = preprocessing.normalize(X, norm='l2')\n",
    "X_normalized_l2"
   ]
  },
  {
   "cell_type": "markdown",
   "id": "d77d13bc-2d1a-46c2-bbdd-1e7d5f8501d7",
   "metadata": {},
   "source": [
    "## 特徴量を範囲内に縮尺変換する\n",
    "平均値をゼロかつ単位分散になるように特徴量を縮尺変換するのではなく、特徴量を与えられた最小値と最大値の間におさめることもできる。"
   ]
  },
  {
   "cell_type": "code",
   "execution_count": 6,
   "id": "f1fba218-e417-4273-9dca-3bdb49953fdd",
   "metadata": {},
   "outputs": [
    {
     "name": "stdout",
     "output_type": "stream",
     "text": [
      "[[0.33333333 0.         1.        ]\n",
      " [1.         0.66666667 0.33333333]\n",
      " [0.         1.         0.        ]]\n",
      "[[ -3.33333333 -10.          10.        ]\n",
      " [ 10.           3.33333333  -3.33333333]\n",
      " [-10.          10.         -10.        ]]\n"
     ]
    }
   ],
   "source": [
    "# デフォルトでは0から1の範囲で縮尺変換される\n",
    "min_max_scaler = preprocessing.MinMaxScaler()\n",
    "X_min_max = min_max_scaler.fit_transform(X)\n",
    "print(X_min_max)\n",
    "\n",
    "# -10, 10の範囲を指定する場合\n",
    "min_max_scaler = preprocessing.MinMaxScaler(feature_range=(-10, 10))\n",
    "X_min_max2 = min_max_scaler.fit_transform(X)\n",
    "print(X_min_max2)"
   ]
  }
 ],
 "metadata": {
  "kernelspec": {
   "display_name": "Python 3",
   "language": "python",
   "name": "python3"
  },
  "language_info": {
   "codemirror_mode": {
    "name": "ipython",
    "version": 3
   },
   "file_extension": ".py",
   "mimetype": "text/x-python",
   "name": "python",
   "nbconvert_exporter": "python",
   "pygments_lexer": "ipython3",
   "version": "3.8.5"
  }
 },
 "nbformat": 4,
 "nbformat_minor": 5
}
