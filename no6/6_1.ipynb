{
 "cells": [
  {
   "cell_type": "markdown",
   "id": "6909fb9c-5e87-4827-8746-59a186f39e0e",
   "metadata": {},
   "source": [
    "# 線形SVM\n",
    "## データセットの生成"
   ]
  },
  {
   "cell_type": "code",
   "execution_count": 1,
   "id": "f55673fc-d614-4435-8b89-6ade3ab03a66",
   "metadata": {},
   "outputs": [],
   "source": [
    "from sklearn import datasets\n",
    "\n",
    "X, y = datasets.make_classification(n_samples=100, n_features=2, n_redundant=0, n_classes=2, random_state=7816)"
   ]
  },
  {
   "cell_type": "code",
   "execution_count": 2,
   "id": "5e23d83a-3e9a-4e8e-a6eb-f0b36784743d",
   "metadata": {},
   "outputs": [
    {
     "data": {
      "text/plain": [
       "((100, 2), (100,))"
      ]
     },
     "execution_count": 2,
     "metadata": {},
     "output_type": "execute_result"
    }
   ],
   "source": [
    "X.shape, y.shape"
   ]
  },
  {
   "cell_type": "markdown",
   "id": "cd3cebe5-e341-4768-a43c-4b6c6f13f1da",
   "metadata": {},
   "source": [
    "## データセットの可視化"
   ]
  },
  {
   "cell_type": "code",
   "execution_count": 3,
   "id": "5202ca59-d8c9-47d2-9629-a210e9b38af9",
   "metadata": {},
   "outputs": [
    {
     "data": {
      "image/png": "[encoded data removed]",
      "text/plain": [
       "<Figure size 432x288 with 1 Axes>"
      ]
     },
     "metadata": {
      "needs_background": "light"
     },
     "output_type": "display_data"
    }
   ],
   "source": [
    "import matplotlib.pyplot as plt\n",
    "%matplotlib inline\n",
    "\n",
    "plt.scatter(X[:, 0], X[:, 1], c=y, s=14)\n",
    "plt.xlabel(\"x values\")\n",
    "plt.ylabel(\"y values\")\n",
    "plt.show()"
   ]
  },
  {
   "cell_type": "markdown",
   "id": "d5a38326-d8f0-4457-a752-9233daa46826",
   "metadata": {},
   "source": [
    "## データセットの前処理\n",
    "以下の操作を行う\n",
    "\n",
    "- Xが含む全ての特徴量を32bit浮動小数点で表現する\n",
    "- ターゲットラベルは-1または+1でなければならない"
   ]
  },
  {
   "cell_type": "code",
   "execution_count": 4,
   "id": "4a88456e-fbe8-48ff-9eef-9af0f7c6a7fe",
   "metadata": {},
   "outputs": [],
   "source": [
    "import numpy as np\n",
    "\n",
    "X = X.astype(np.float32)\n",
    "y = y * 2 - 1"
   ]
  },
  {
   "cell_type": "code",
   "execution_count": 5,
   "id": "d243ef46-5e41-46e3-bc45-8fb760c61819",
   "metadata": {},
   "outputs": [],
   "source": [
    "from sklearn import model_selection as ms\n",
    "\n",
    "X_train, X_test, y_train, y_test = ms.train_test_split(X, y, test_size=0.2, random_state=42)"
   ]
  },
  {
   "cell_type": "markdown",
   "id": "92dd0b0f-e711-46d4-91c2-694a2fbc0958",
   "metadata": {},
   "source": [
    "## サポートベクタマシンの構築"
   ]
  },
  {
   "cell_type": "code",
   "execution_count": 6,
   "id": "39f0b45b-de6f-4b6e-acc4-7f05ed3541c2",
   "metadata": {},
   "outputs": [],
   "source": [
    "import cv2\n",
    "\n",
    "svm = cv2.ml.SVM_create()\n",
    "svm.setKernel(cv2.ml.SVM_LINEAR)                # データを直線で分離することを試みるSVM\n",
    "svm.train(X_train, cv2.ml.ROW_SAMPLE, y_train)  # 最適決定境界を探索するための分類器メソッドを呼び出す\n",
    "_, y_pred = svm.predict(X_test)"
   ]
  },
  {
   "cell_type": "code",
   "execution_count": 7,
   "id": "31a72a65-26a8-4771-b927-b4b2bdf2639a",
   "metadata": {},
   "outputs": [
    {
     "data": {
      "text/plain": [
       "0.8"
      ]
     },
     "execution_count": 7,
     "metadata": {},
     "output_type": "execute_result"
    }
   ],
   "source": [
    "from sklearn.metrics import accuracy_score\n",
    "\n",
    "accuracy_score(y_test, y_pred)"
   ]
  },
  {
   "cell_type": "markdown",
   "id": "af42e7ef-17ec-48b0-be3c-f45696b9afd8",
   "metadata": {},
   "source": [
    "## 決定境界の可視化"
   ]
  },
  {
   "cell_type": "code",
   "execution_count": 8,
   "id": "7ba21de3-caca-4f62-9572-bab8d8f79e73",
   "metadata": {},
   "outputs": [
    {
     "data": {
      "image/png": "[encoded data removed]",
      "text/plain": [
       "<Figure size 432x288 with 1 Axes>"
      ]
     },
     "metadata": {
      "needs_background": "light"
     },
     "output_type": "display_data"
    }
   ],
   "source": [
    "def plot_decision_boundary(svm, X_test, y_test):\n",
    "    # 左右上下の端にデータ点がのることを避けるために、+1または-1の余白を入れている\n",
    "    x_min, x_max = X_test[:, 0].min() - 1, X_test[:, 0].max() + 1\n",
    "    y_min, y_max = X_test[:, 1].min() - 1, X_test[:, 1].max() + 1\n",
    "    \n",
    "    # メッシュグリッドのサンプリング間隔\n",
    "    h = 0.02\n",
    "    \n",
    "    xx, yy = np.meshgrid(np.arange(x_min, x_max, h),\n",
    "                         np.arange(y_min, y_max, h))\n",
    "    \n",
    "    X_hypo = np.c_[xx.ravel().astype(np.float32),\n",
    "                   yy.ravel().astype(np.float32)]\n",
    "    \n",
    "    _, zz = svm.predict(X_hypo)\n",
    "    \n",
    "    zz = zz.reshape(xx.shape)\n",
    "    plt.contourf(xx, yy, zz, cmap=plt.cm.coolwarm, alpha=0.8)\n",
    "    plt.scatter(X_test[:, 0], X_test[:, 1], c=y_test, s=14)\n",
    "    plt.show()\n",
    "\n",
    "plot_decision_boundary(svm, X_test, y_test)"
   ]
  }
 ],
 "metadata": {
  "kernelspec": {
   "display_name": "Python 3",
   "language": "python",
   "name": "python3"
  },
  "language_info": {
   "codemirror_mode": {
    "name": "ipython",
    "version": 3
   },
   "file_extension": ".py",
   "mimetype": "text/x-python",
   "name": "python",
   "nbconvert_exporter": "python",
   "pygments_lexer": "ipython3",
   "version": "3.8.5"
  }
 },
 "nbformat": 4,
 "nbformat_minor": 5
}
