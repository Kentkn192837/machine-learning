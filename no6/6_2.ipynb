{
 "cells": [
  {
   "cell_type": "markdown",
   "id": "0b8a0074-4e57-4e3b-b33e-de6d49505b9a",
   "metadata": {},
   "source": [
    "# 非線形決定境界"
   ]
  }
 ],
 "metadata": {
  "kernelspec": {
   "display_name": "Python 3",
   "language": "python",
   "name": "python3"
  },
  "language_info": {
   "codemirror_mode": {
    "name": "ipython",
    "version": 3
   },
   "file_extension": ".py",
   "mimetype": "text/x-python",
   "name": "python",
   "nbconvert_exporter": "python",
   "pygments_lexer": "ipython3",
   "version": "3.8.5"
  }
 },
 "nbformat": 4,
 "nbformat_minor": 5
}
