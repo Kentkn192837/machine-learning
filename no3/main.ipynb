{
 "cells": [
  {
   "cell_type": "code",
   "execution_count": 1,
   "id": "6a8e50e5-c79d-4a4e-b34d-51bdea120be9",
   "metadata": {},
   "outputs": [],
   "source": [
    "from tensorflow.keras.datasets.fashion_mnist import load_data\n",
    "from matplotlib import pyplot as plt\n",
    "%matplotlib inline"
   ]
  },
  {
   "cell_type": "code",
   "execution_count": 2,
   "id": "3723398f-c2e3-43a6-9481-1b47b373d773",
   "metadata": {},
   "outputs": [],
   "source": [
    "class Mylearning:\n",
    "    def __init__(self, x_train, y_train, x_test, y_test):\n",
    "        self.x_train = self.data_reshape(x_train)\n",
    "        self.y_train = y_train\n",
    "        self.x_test = self.data_reshape(x_test)\n",
    "        self.y_test = y_test\n",
    "    \n",
    "    def get_prm(self):\n",
    "        return self.x_train, self.y_train, self.x_test, self.y_test\n",
    "    \n",
    "    def data_reshape(self, x):\n",
    "        x = x.reshape(len(x), 28 * 28)\n",
    "        x = x / 255.0\n",
    "        return x"
   ]
  },
  {
   "cell_type": "code",
   "execution_count": 3,
   "id": "a5130927-db88-4ddf-b3be-0f6e845b9ef0",
   "metadata": {},
   "outputs": [],
   "source": [
    "(x_train, y_train), (x_test, y_test) = load_data()\n",
    "model = Mylearning(x_train, y_train, x_test, y_test)\n",
    "x, y, xt, yt = model.get_prm()"
   ]
  }
 ],
 "metadata": {
  "kernelspec": {
   "display_name": "Python 3",
   "language": "python",
   "name": "python3"
  },
  "language_info": {
   "codemirror_mode": {
    "name": "ipython",
    "version": 3
   },
   "file_extension": ".py",
   "mimetype": "text/x-python",
   "name": "python",
   "nbconvert_exporter": "python",
   "pygments_lexer": "ipython3",
   "version": "3.8.5"
  }
 },
 "nbformat": 4,
 "nbformat_minor": 5
}
