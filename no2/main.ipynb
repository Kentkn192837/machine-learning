{
 "cells": [
  {
   "cell_type": "code",
   "execution_count": 1,
   "id": "5cec032b-467f-46c4-b450-52a20ecdcdda",
   "metadata": {},
   "outputs": [],
   "source": [
    "import numpy as np\n",
    "import time\n",
    "import pickle\n",
    "from tensorflow.keras.datasets.mnist import load_data\n",
    "from sklearn.neural_network import MLPClassifier\n",
    "from sklearn.model_selection import train_test_split\n",
    "from matplotlib import pyplot as plt\n",
    "%matplotlib inline"
   ]
  },
  {
   "cell_type": "code",
   "execution_count": 2,
   "id": "6285c645-fee3-410c-b392-d700ca5c4fb3",
   "metadata": {},
   "outputs": [],
   "source": [
    "# parameters----------------------------------\n",
    "\n",
    "# 検証用データとして確保する割合\n",
    "value_size = 0.01\n",
    "\n",
    "# 訓練時のテストデータとして確保する割合\n",
    "test_size = 0.1\n",
    "random_state = 60\n",
    "\n",
    "accuracies = []  # 正確度保存用\n",
    "proc_time = []   # 実行時間保存用\n",
    "# --------------------------------------------\n",
    "\n",
    "# MNISTデータの読み込み\n",
    "(x, y), (xt, yt) = load_data()"
   ]
  },
  {
   "cell_type": "code",
   "execution_count": 3,
   "id": "b426de2e-dee2-4a6f-8938-d4d9770670ac",
   "metadata": {},
   "outputs": [
    {
     "data": {
      "text/plain": [
       "(60000, 28, 28)"
      ]
     },
     "execution_count": 3,
     "metadata": {},
     "output_type": "execute_result"
    }
   ],
   "source": [
    "x.shape"
   ]
  },
  {
   "cell_type": "code",
   "execution_count": 4,
   "id": "d9d82b69-5aff-4f9e-9a01-87c314b6372c",
   "metadata": {},
   "outputs": [
    {
     "data": {
      "text/plain": [
       "60000"
      ]
     },
     "execution_count": 4,
     "metadata": {},
     "output_type": "execute_result"
    }
   ],
   "source": [
    "len(x)"
   ]
  },
  {
   "cell_type": "code",
   "execution_count": 5,
   "id": "6d215ca9-641f-4764-bd40-59b8b1b59e4f",
   "metadata": {},
   "outputs": [
    {
     "data": {
      "text/plain": [
       "(10000, 28, 28)"
      ]
     },
     "execution_count": 5,
     "metadata": {},
     "output_type": "execute_result"
    }
   ],
   "source": [
    "xt.shape"
   ]
  },
  {
   "cell_type": "code",
   "execution_count": 6,
   "id": "b6f9db31-ee41-416c-beb7-f1790e32ff98",
   "metadata": {},
   "outputs": [
    {
     "data": {
      "text/plain": [
       "10000"
      ]
     },
     "execution_count": 6,
     "metadata": {},
     "output_type": "execute_result"
    }
   ],
   "source": [
    "len(xt)"
   ]
  },
  {
   "cell_type": "code",
   "execution_count": 7,
   "id": "d5ba5ff0-d861-475d-a503-cce0d436fa16",
   "metadata": {},
   "outputs": [],
   "source": [
    "# 画像データの正規化\n",
    "x = (x.reshape(len(x), 28 * 28)).astype(np.float64)\n",
    "xt = (xt.reshape(len(xt), 28 * 28)).astype(np.float64)\n",
    "x /= x.max()\n",
    "xt /= xt.max()"
   ]
  },
  {
   "cell_type": "code",
   "execution_count": 8,
   "id": "2f9bd2cf-38b6-40a9-8d5f-8d47280ebcd9",
   "metadata": {},
   "outputs": [],
   "source": [
    "trainData, valData, trainLabels, valLabels = train_test_split(x, y,\n",
    "                                                        test_size=value_size,\n",
    "                                                        random_state=random_state\n",
    "                                                       )"
   ]
  },
  {
   "cell_type": "code",
   "execution_count": 9,
   "id": "8670a7ea-6bf1-4f8d-93ab-a762e91fb3d2",
   "metadata": {},
   "outputs": [],
   "source": [
    "# start = time.time()  # 時間計測開始\n",
    "# model = MLPClassifier(hidden_layer_size=(100,),\n",
    "#                       activation='tanh',\n",
    "#                       max_iter=1000\n",
    "#                      )\n",
    "# model.fit(trainData, trainLabels)\n",
    "# duration = time.time() - start  # 計測終了"
   ]
  },
  {
   "cell_type": "code",
   "execution_count": 10,
   "id": "a355a914-372c-4bb5-882d-edefadf91da1",
   "metadata": {},
   "outputs": [],
   "source": [
    "# # モデルを保存する\n",
    "# filename = 'finalized_model.sav'\n",
    "# pickle.dump(model, open(filename, 'wb'))\n",
    "\n",
    "# # 保存したモデルをロードする\n",
    "# loaded_model = pickle.load(open(filename, 'rb'))\n",
    "# result = loaded_model.score(X_test, Y_test)\n",
    "# print(result)"
   ]
  }
 ],
 "metadata": {
  "kernelspec": {
   "display_name": "Python 3",
   "language": "python",
   "name": "python3"
  },
  "language_info": {
   "codemirror_mode": {
    "name": "ipython",
    "version": 3
   },
   "file_extension": ".py",
   "mimetype": "text/x-python",
   "name": "python",
   "nbconvert_exporter": "python",
   "pygments_lexer": "ipython3",
   "version": "3.8.5"
  }
 },
 "nbformat": 4,
 "nbformat_minor": 5
}
