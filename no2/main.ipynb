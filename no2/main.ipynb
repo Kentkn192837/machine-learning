{
 "cells": [
  {
   "cell_type": "code",
   "execution_count": 1,
   "id": "5cec032b-467f-46c4-b450-52a20ecdcdda",
   "metadata": {},
   "outputs": [],
   "source": [
    "import numpy as np\n",
    "import time\n",
    "import pickle\n",
    "from tensorflow.keras.datasets.mnist import load_data\n",
    "from sklearn.neural_network import MLPClassifier\n",
    "from sklearn.model_selection import train_test_split\n",
    "from matplotlib import pyplot as plt\n",
    "%matplotlib inline"
   ]
  },
  {
   "cell_type": "code",
   "execution_count": 2,
   "id": "d78aedac-cb96-4e37-9640-00aae79814e3",
   "metadata": {},
   "outputs": [],
   "source": [
    "def data_reshape(x):\n",
    "    x = (x.reshape(len(x), 28 * 28)).astype(np.float64)\n",
    "    x /= x.max()\n",
    "    return x\n",
    "\n",
    "def model_save(model, filename):\n",
    "    pickle.dump(model, open(filename, 'wb'))\n",
    "\n",
    "def model_load():\n",
    "    return pickle.load(open(filename, 'rb'))\n",
    "\n",
    "def save_accuracy(accuracy, filename):\n",
    "    with open(filename, mode='w') as f:\n",
    "        for d in accuracy:\n",
    "            f.write(\"%s\\n\" % d)\n",
    "    \n",
    "def save_times(times, filename):\n",
    "    with open(filename, mode='w') as f:\n",
    "        for d in times:\n",
    "            f.write(\"%s\\n\" % d)"
   ]
  },
  {
   "cell_type": "code",
   "execution_count": 3,
   "id": "6285c645-fee3-410c-b392-d700ca5c4fb3",
   "metadata": {},
   "outputs": [],
   "source": [
    "# MNISTデータの読み込み\n",
    "(x, y), (xt, yt) = load_data()"
   ]
  },
  {
   "cell_type": "code",
   "execution_count": 4,
   "id": "b426de2e-dee2-4a6f-8938-d4d9770670ac",
   "metadata": {},
   "outputs": [
    {
     "data": {
      "text/plain": [
       "(60000, 28, 28)"
      ]
     },
     "execution_count": 4,
     "metadata": {},
     "output_type": "execute_result"
    }
   ],
   "source": [
    "x.shape"
   ]
  },
  {
   "cell_type": "code",
   "execution_count": 5,
   "id": "d9d82b69-5aff-4f9e-9a01-87c314b6372c",
   "metadata": {},
   "outputs": [
    {
     "data": {
      "text/plain": [
       "60000"
      ]
     },
     "execution_count": 5,
     "metadata": {},
     "output_type": "execute_result"
    }
   ],
   "source": [
    "len(x)"
   ]
  },
  {
   "cell_type": "code",
   "execution_count": 6,
   "id": "6d215ca9-641f-4764-bd40-59b8b1b59e4f",
   "metadata": {},
   "outputs": [
    {
     "data": {
      "text/plain": [
       "(10000, 28, 28)"
      ]
     },
     "execution_count": 6,
     "metadata": {},
     "output_type": "execute_result"
    }
   ],
   "source": [
    "xt.shape"
   ]
  },
  {
   "cell_type": "code",
   "execution_count": 7,
   "id": "b6f9db31-ee41-416c-beb7-f1790e32ff98",
   "metadata": {},
   "outputs": [
    {
     "data": {
      "text/plain": [
       "10000"
      ]
     },
     "execution_count": 7,
     "metadata": {},
     "output_type": "execute_result"
    }
   ],
   "source": [
    "len(xt)"
   ]
  },
  {
   "cell_type": "code",
   "execution_count": 8,
   "id": "d5ba5ff0-d861-475d-a503-cce0d436fa16",
   "metadata": {},
   "outputs": [],
   "source": [
    "# 画像データの正規化\n",
    "x = data_reshape(x)\n",
    "xt = data_reshape(xt)"
   ]
  },
  {
   "cell_type": "code",
   "execution_count": 18,
   "id": "2f9bd2cf-38b6-40a9-8d5f-8d47280ebcd9",
   "metadata": {},
   "outputs": [
    {
     "name": "stdout",
     "output_type": "stream",
     "text": [
      "[0.1 0.2 0.3 0.4 0.5 0.6 0.7 0.8 0.9 1. ]\n",
      "trainData:  42000\n"
     ]
    }
   ],
   "source": [
    "# parameters----------------------------------\n",
    "\n",
    "# 検証用データとして確保する割合\n",
    "value_size = 0.01\n",
    "\n",
    "# 訓練時のテストデータとして確保する割合\n",
    "test_size = 0.1\n",
    "random_state = 60\n",
    "\n",
    "# --------------------------------------------\n",
    "\n",
    "# 何%を検証用にするか\n",
    "nVals = np.array([0.1, 0.2, 0.3, 0.4, 0.5, 0.6, 0.7, 0.8, 0.9, 1.0])\n",
    "# nVals = np.array([1.0, 0.9, 0.8, 0.7, 0.6, 0.5, 0.4, 0.3, 0.2, 0.1])\n",
    "print(nVals)\n",
    "print(\"trainData: \", int((1-nVals[2]) * len(x)))\n",
    "\n",
    "# trainData, valData, trainLabels, valLabels = train_test_split(x, y,\n",
    "#                                                               test_size=1-nVals[0],\n",
    "#                                                               random_state=random_state\n",
    "#                                                               )\n",
    "# print(\"testData: \", len(valData))"
   ]
  },
  {
   "cell_type": "code",
   "execution_count": 10,
   "id": "8670a7ea-6bf1-4f8d-93ab-a762e91fb3d2",
   "metadata": {},
   "outputs": [],
   "source": [
    "activation_function_list = ['tanh', 'relu', 'logistic']\n",
    "for activation_function in activation_function_list:\n",
    "    accuracies = []  # 正確度保存用\n",
    "    proc_time = []   # 実行時間保存用\n",
    "    for per in nVals:\n",
    "\n",
    "        if per == 1:\n",
    "            trainData = x\n",
    "            trainLabels = y\n",
    "        else:\n",
    "            trainData, valData, trainLabels, valLabels = train_test_split(x, y,\n",
    "                                                                    test_size=1-per,\n",
    "                                                                    random_state=random_state\n",
    "                                                                   )\n",
    "\n",
    "        start = time.time()  # 時間計測開始\n",
    "        model = MLPClassifier(hidden_layer_sizes=(100,),\n",
    "                              activation=activation_function,\n",
    "                              max_iter=1000\n",
    "                             )\n",
    "        model.fit(trainData, trainLabels)\n",
    "        score = model.score(xt, yt)\n",
    "        duration = time.time() - start  # 計測終了\n",
    "\n",
    "        accuracies.append(score)\n",
    "        proc_time.append(duration)\n",
    "\n",
    "        # モデルを保存する\n",
    "        filename = 'train_data='+ str(len(trainData)) + '-activation_function=' + activation_function + '.sav'\n",
    "        model_save(model, filename)\n",
    "\n",
    "    filename = 'train_data='+ str(len(trainData)) + '-activation_function=' + activation_function + '-accuracy.sav'\n",
    "    save_accuracy(accuracies, filename)\n",
    "    filename = 'train_data='+ str(len(trainData)) + '-activation_function=' + activation_function + '-time.sav'\n",
    "    save_times(proc_time, filename)"
   ]
  },
  {
   "cell_type": "code",
   "execution_count": 11,
   "id": "a355a914-372c-4bb5-882d-edefadf91da1",
   "metadata": {},
   "outputs": [],
   "source": [
    "# # 保存したモデルをロードする\n",
    "# loaded_model = pickle.load(open(filename, 'rb'))\n",
    "# result = loaded_model.score(X_test, Y_test)\n",
    "# print(result)"
   ]
  }
 ],
 "metadata": {
  "kernelspec": {
   "display_name": "Python 3",
   "language": "python",
   "name": "python3"
  },
  "language_info": {
   "codemirror_mode": {
    "name": "ipython",
    "version": 3
   },
   "file_extension": ".py",
   "mimetype": "text/x-python",
   "name": "python",
   "nbconvert_exporter": "python",
   "pygments_lexer": "ipython3",
   "version": "3.8.5"
  }
 },
 "nbformat": 4,
 "nbformat_minor": 5
}
