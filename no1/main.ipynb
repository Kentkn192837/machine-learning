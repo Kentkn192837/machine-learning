{
 "cells": [
  {
   "cell_type": "code",
   "execution_count": 11,
   "id": "b6279c20-4063-4ba6-9fff-acbf923390e6",
   "metadata": {},
   "outputs": [
    {
     "name": "stdout",
     "output_type": "stream",
     "text": [
      "X_train:  60000 件\n",
      "Y_train:  60000 件\n",
      "X_test :  10000 件\n",
      "Y_test :  10000 件\n"
     ]
    }
   ],
   "source": [
    "from tensorflow.keras.datasets.mnist import load_data\n",
    "import numpy as np\n",
    "from matplotlib import pyplot as plt\n",
    "from sklearn.model_selection import train_test_split\n",
    "from sklearn.neighbors import KNeighborsClassifier\n",
    "from sklearn.metrics import classification_report\n",
    "import time\n",
    "from tqdm import tqdm\n",
    "%matplotlib inline\n",
    "\n",
    "(X_train, Y_train), (X_test, Y_test) = load_data()\n",
    "print(\"X_train: \", len(X_train), \"件\")\n",
    "print(\"Y_train: \", len(Y_train), \"件\")\n",
    "print(\"X_test : \", len(X_test), \"件\")\n",
    "print(\"Y_test : \", len(Y_test), \"件\")"
   ]
  },
  {
   "cell_type": "code",
   "execution_count": 12,
   "id": "b0933ee2-3112-4d86-acff-b98976264db3",
   "metadata": {},
   "outputs": [
    {
     "name": "stdout",
     "output_type": "stream",
     "text": [
      "X_train.shape:  (60000, 28, 28)\n",
      "X_test.shape :  (10000, 28, 28)\n",
      "Y_train.shape:  (60000,)\n",
      "Y_test.shape :  (10000,)\n"
     ]
    }
   ],
   "source": [
    "# 読み込み直後のデータ形式\n",
    "print(\"X_train.shape: \", X_train.shape)\n",
    "print(\"X_test.shape : \", X_test.shape)\n",
    "print(\"Y_train.shape: \", Y_train.shape)\n",
    "print(\"Y_test.shape : \", Y_test.shape)"
   ]
  },
  {
   "cell_type": "code",
   "execution_count": 13,
   "id": "c6d748b3-2ba4-4878-a4c5-e87429615b74",
   "metadata": {},
   "outputs": [
    {
     "name": "stdout",
     "output_type": "stream",
     "text": [
      "変換後X_train:  (60000, 784)\n",
      "変換後X_test :  (10000, 784)\n"
     ]
    }
   ],
   "source": [
    "# 画像データの変換\n",
    "X_train = X_train.reshape(60000, 28 * 28)\n",
    "X_test = X_test.reshape(10000, 28 * 28)\n",
    "print(\"変換後X_train: \", X_train.shape)\n",
    "print(\"変換後X_test : \", X_test.shape)"
   ]
  },
  {
   "cell_type": "code",
   "execution_count": 14,
   "id": "70dd5163-ed60-4424-8973-468177f350bc",
   "metadata": {},
   "outputs": [
    {
     "name": "stderr",
     "output_type": "stream",
     "text": [
      " 11%|█████████▎                                                                          | 1/9 [00:02<00:23,  2.89s/it]"
     ]
    },
    {
     "name": "stdout",
     "output_type": "stream",
     "text": [
      "train size=3000, accuracy=91.83%, time=2.87[s]\n",
      "train size= 2999 achieved highest accuracy of 91.83% on validation data\n"
     ]
    },
    {
     "name": "stderr",
     "output_type": "stream",
     "text": [
      " 22%|██████████████████▋                                                                 | 2/9 [00:08<00:29,  4.25s/it]"
     ]
    },
    {
     "name": "stdout",
     "output_type": "stream",
     "text": [
      "train size=6000, accuracy=93.68%, time=5.19[s]\n",
      "train size= 5999 achieved highest accuracy of 93.68% on validation data\n"
     ]
    },
    {
     "name": "stderr",
     "output_type": "stream",
     "text": [
      " 33%|████████████████████████████                                                        | 3/9 [00:15<00:34,  5.79s/it]"
     ]
    },
    {
     "name": "stdout",
     "output_type": "stream",
     "text": [
      "train size=8999, accuracy=94.71%, time=7.61[s]\n",
      "train size= 8999 achieved highest accuracy of 94.71% on validation data\n"
     ]
    },
    {
     "name": "stderr",
     "output_type": "stream",
     "text": [
      " 44%|█████████████████████████████████████▎                                              | 4/9 [00:25<00:36,  7.37s/it]"
     ]
    },
    {
     "name": "stdout",
     "output_type": "stream",
     "text": [
      "train size=11999, accuracy=95.24%, time=9.77[s]\n",
      "train size=11999 achieved highest accuracy of 95.24% on validation data\n"
     ]
    },
    {
     "name": "stderr",
     "output_type": "stream",
     "text": [
      " 56%|██████████████████████████████████████████████▋                                     | 5/9 [00:37<00:36,  9.21s/it]"
     ]
    },
    {
     "name": "stdout",
     "output_type": "stream",
     "text": [
      "train size=14999, accuracy=95.66%, time=12.46[s]\n",
      "train size=14999 achieved highest accuracy of 95.66% on validation data\n"
     ]
    },
    {
     "name": "stderr",
     "output_type": "stream",
     "text": [
      " 67%|████████████████████████████████████████████████████████                            | 6/9 [00:54<00:34, 11.61s/it]"
     ]
    },
    {
     "name": "stdout",
     "output_type": "stream",
     "text": [
      "train size=17999, accuracy=95.98%, time=16.26[s]\n",
      "train size=17999 achieved highest accuracy of 95.98% on validation data\n"
     ]
    },
    {
     "name": "stderr",
     "output_type": "stream",
     "text": [
      " 78%|█████████████████████████████████████████████████████████████████▎                  | 7/9 [01:12<00:27, 13.94s/it]"
     ]
    },
    {
     "name": "stdout",
     "output_type": "stream",
     "text": [
      "train size=20999, accuracy=96.11%, time=18.70[s]\n",
      "train size=20999 achieved highest accuracy of 96.11% on validation data\n"
     ]
    },
    {
     "name": "stderr",
     "output_type": "stream",
     "text": [
      " 89%|██████████████████████████████████████████████████████████████████████████▋         | 8/9 [01:33<00:16, 16.16s/it]"
     ]
    },
    {
     "name": "stdout",
     "output_type": "stream",
     "text": [
      "train size=23999, accuracy=96.37%, time=20.91[s]\n",
      "train size=23999 achieved highest accuracy of 96.37% on validation data\n"
     ]
    },
    {
     "name": "stderr",
     "output_type": "stream",
     "text": [
      "100%|████████████████████████████████████████████████████████████████████████████████████| 9/9 [01:57<00:00, 13.04s/it]\n",
      "  0%|                                                                                            | 0/9 [00:00<?, ?it/s]"
     ]
    },
    {
     "name": "stdout",
     "output_type": "stream",
     "text": [
      "train size=26999, accuracy=96.51%, time=23.45[s]\n",
      "train size=26999 achieved highest accuracy of 96.51% on validation data\n"
     ]
    },
    {
     "name": "stderr",
     "output_type": "stream",
     "text": [
      " 11%|█████████▎                                                                          | 1/9 [00:03<00:29,  3.69s/it]"
     ]
    },
    {
     "name": "stdout",
     "output_type": "stream",
     "text": [
      "train size=3000, accuracy=91.53%, time=3.67[s]\n",
      "train size= 2999 achieved highest accuracy of 91.53% on validation data\n"
     ]
    },
    {
     "name": "stderr",
     "output_type": "stream",
     "text": [
      " 22%|██████████████████▋                                                                 | 2/9 [00:10<00:37,  5.36s/it]"
     ]
    },
    {
     "name": "stdout",
     "output_type": "stream",
     "text": [
      "train size=6000, accuracy=93.57%, time=6.51[s]\n",
      "train size= 5999 achieved highest accuracy of 93.57% on validation data\n"
     ]
    },
    {
     "name": "stderr",
     "output_type": "stream",
     "text": [
      " 33%|████████████████████████████                                                        | 3/9 [00:19<00:43,  7.25s/it]"
     ]
    },
    {
     "name": "stdout",
     "output_type": "stream",
     "text": [
      "train size=8999, accuracy=94.45%, time=9.48[s]\n",
      "train size= 8999 achieved highest accuracy of 94.45% on validation data\n"
     ]
    },
    {
     "name": "stderr",
     "output_type": "stream",
     "text": [
      " 44%|█████████████████████████████████████▎                                              | 4/9 [00:31<00:45,  9.02s/it]"
     ]
    },
    {
     "name": "stdout",
     "output_type": "stream",
     "text": [
      "train size=11999, accuracy=94.78%, time=11.72[s]\n",
      "train size=11999 achieved highest accuracy of 94.78% on validation data\n"
     ]
    },
    {
     "name": "stderr",
     "output_type": "stream",
     "text": [
      " 56%|██████████████████████████████████████████████▋                                     | 5/9 [00:47<00:45, 11.42s/it]"
     ]
    },
    {
     "name": "stdout",
     "output_type": "stream",
     "text": [
      "train size=14999, accuracy=95.32%, time=15.66[s]\n",
      "train size=14999 achieved highest accuracy of 95.32% on validation data\n"
     ]
    },
    {
     "name": "stderr",
     "output_type": "stream",
     "text": [
      " 67%|████████████████████████████████████████████████████████                            | 6/9 [01:05<00:41, 13.91s/it]"
     ]
    },
    {
     "name": "stdout",
     "output_type": "stream",
     "text": [
      "train size=17999, accuracy=95.67%, time=18.72[s]\n",
      "train size=17999 achieved highest accuracy of 95.67% on validation data\n"
     ]
    },
    {
     "name": "stderr",
     "output_type": "stream",
     "text": [
      " 78%|█████████████████████████████████████████████████████████████████▎                  | 7/9 [01:27<00:32, 16.42s/it]"
     ]
    },
    {
     "name": "stdout",
     "output_type": "stream",
     "text": [
      "train size=20999, accuracy=95.91%, time=21.59[s]\n",
      "train size=20999 achieved highest accuracy of 95.91% on validation data\n"
     ]
    },
    {
     "name": "stderr",
     "output_type": "stream",
     "text": [
      " 89%|██████████████████████████████████████████████████████████████████████████▋         | 8/9 [01:52<00:19, 19.07s/it]"
     ]
    },
    {
     "name": "stdout",
     "output_type": "stream",
     "text": [
      "train size=23999, accuracy=96.16%, time=24.73[s]\n",
      "train size=23999 achieved highest accuracy of 96.16% on validation data\n"
     ]
    },
    {
     "name": "stderr",
     "output_type": "stream",
     "text": [
      "100%|████████████████████████████████████████████████████████████████████████████████████| 9/9 [02:21<00:00, 15.78s/it]\n",
      "  0%|                                                                                            | 0/9 [00:00<?, ?it/s]"
     ]
    },
    {
     "name": "stdout",
     "output_type": "stream",
     "text": [
      "train size=26999, accuracy=96.29%, time=29.76[s]\n",
      "train size=26999 achieved highest accuracy of 96.29% on validation data\n"
     ]
    },
    {
     "name": "stderr",
     "output_type": "stream",
     "text": [
      " 11%|█████████▎                                                                          | 1/9 [00:03<00:31,  3.96s/it]"
     ]
    },
    {
     "name": "stdout",
     "output_type": "stream",
     "text": [
      "train size=3000, accuracy=91.11%, time=3.94[s]\n",
      "train size= 2999 achieved highest accuracy of 91.11% on validation data\n"
     ]
    },
    {
     "name": "stderr",
     "output_type": "stream",
     "text": [
      " 22%|██████████████████▋                                                                 | 2/9 [00:10<00:40,  5.76s/it]"
     ]
    },
    {
     "name": "stdout",
     "output_type": "stream",
     "text": [
      "train size=6000, accuracy=93.26%, time=7.00[s]\n",
      "train size= 5999 achieved highest accuracy of 93.26% on validation data\n"
     ]
    },
    {
     "name": "stderr",
     "output_type": "stream",
     "text": [
      " 33%|████████████████████████████                                                        | 3/9 [00:22<00:48,  8.16s/it]"
     ]
    },
    {
     "name": "stdout",
     "output_type": "stream",
     "text": [
      "train size=8999, accuracy=94.14%, time=11.01[s]\n",
      "train size= 8999 achieved highest accuracy of 94.14% on validation data\n"
     ]
    },
    {
     "name": "stderr",
     "output_type": "stream",
     "text": [
      " 44%|█████████████████████████████████████▎                                              | 4/9 [00:36<00:53, 10.76s/it]"
     ]
    },
    {
     "name": "stdout",
     "output_type": "stream",
     "text": [
      "train size=11999, accuracy=94.71%, time=14.73[s]\n",
      "train size=11999 achieved highest accuracy of 94.71% on validation data\n"
     ]
    },
    {
     "name": "stderr",
     "output_type": "stream",
     "text": [
      " 56%|██████████████████████████████████████████████▋                                     | 5/9 [00:53<00:51, 12.81s/it]"
     ]
    },
    {
     "name": "stdout",
     "output_type": "stream",
     "text": [
      "train size=14999, accuracy=95.08%, time=16.41[s]\n",
      "train size=14999 achieved highest accuracy of 95.08% on validation data\n"
     ]
    },
    {
     "name": "stderr",
     "output_type": "stream",
     "text": [
      " 67%|████████████████████████████████████████████████████████                            | 6/9 [01:13<00:46, 15.48s/it]"
     ]
    },
    {
     "name": "stdout",
     "output_type": "stream",
     "text": [
      "train size=17999, accuracy=95.48%, time=20.66[s]\n",
      "train size=17999 achieved highest accuracy of 95.48% on validation data\n"
     ]
    },
    {
     "name": "stderr",
     "output_type": "stream",
     "text": [
      " 78%|█████████████████████████████████████████████████████████████████▎                  | 7/9 [01:36<00:35, 17.92s/it]"
     ]
    },
    {
     "name": "stdout",
     "output_type": "stream",
     "text": [
      "train size=20999, accuracy=95.71%, time=22.93[s]\n",
      "train size=20999 achieved highest accuracy of 95.71% on validation data\n",
      "train size=23999, accuracy=95.94%, time=24.98[s]\n"
     ]
    },
    {
     "name": "stderr",
     "output_type": "stream",
     "text": [
      " 89%|██████████████████████████████████████████████████████████████████████████▋         | 8/9 [02:02<00:20, 20.25s/it]"
     ]
    },
    {
     "name": "stdout",
     "output_type": "stream",
     "text": [
      "train size=23999 achieved highest accuracy of 95.94% on validation data\n"
     ]
    },
    {
     "name": "stderr",
     "output_type": "stream",
     "text": [
      "100%|████████████████████████████████████████████████████████████████████████████████████| 9/9 [02:30<00:00, 16.78s/it]\n",
      "  0%|                                                                                            | 0/9 [00:00<?, ?it/s]"
     ]
    },
    {
     "name": "stdout",
     "output_type": "stream",
     "text": [
      "train size=26999, accuracy=96.10%, time=28.93[s]\n",
      "train size=26999 achieved highest accuracy of 96.10% on validation data\n"
     ]
    },
    {
     "name": "stderr",
     "output_type": "stream",
     "text": [
      " 11%|█████████▎                                                                          | 1/9 [00:03<00:31,  3.89s/it]"
     ]
    },
    {
     "name": "stdout",
     "output_type": "stream",
     "text": [
      "train size=3000, accuracy=90.73%, time=3.86[s]\n",
      "train size= 2999 achieved highest accuracy of 90.73% on validation data\n"
     ]
    },
    {
     "name": "stderr",
     "output_type": "stream",
     "text": [
      " 22%|██████████████████▋                                                                 | 2/9 [00:10<00:40,  5.73s/it]"
     ]
    },
    {
     "name": "stdout",
     "output_type": "stream",
     "text": [
      "train size=6000, accuracy=92.89%, time=7.00[s]\n",
      "train size= 5999 achieved highest accuracy of 92.89% on validation data\n"
     ]
    },
    {
     "name": "stderr",
     "output_type": "stream",
     "text": [
      " 33%|████████████████████████████                                                        | 3/9 [00:20<00:45,  7.61s/it]"
     ]
    },
    {
     "name": "stdout",
     "output_type": "stream",
     "text": [
      "train size=8999, accuracy=93.87%, time=9.83[s]\n",
      "train size= 8999 achieved highest accuracy of 93.87% on validation data\n"
     ]
    },
    {
     "name": "stderr",
     "output_type": "stream",
     "text": [
      " 44%|█████████████████████████████████████▎                                              | 4/9 [00:33<00:47,  9.49s/it]"
     ]
    },
    {
     "name": "stdout",
     "output_type": "stream",
     "text": [
      "train size=11999, accuracy=94.37%, time=12.35[s]\n",
      "train size=11999 achieved highest accuracy of 94.37% on validation data\n"
     ]
    },
    {
     "name": "stderr",
     "output_type": "stream",
     "text": [
      " 56%|██████████████████████████████████████████████▋                                     | 5/9 [00:50<00:49, 12.30s/it]"
     ]
    },
    {
     "name": "stdout",
     "output_type": "stream",
     "text": [
      "train size=14999, accuracy=94.85%, time=17.26[s]\n",
      "train size=14999 achieved highest accuracy of 94.85% on validation data\n"
     ]
    },
    {
     "name": "stderr",
     "output_type": "stream",
     "text": [
      " 67%|████████████████████████████████████████████████████████                            | 6/9 [01:12<00:46, 15.64s/it]"
     ]
    },
    {
     "name": "stdout",
     "output_type": "stream",
     "text": [
      "train size=17999, accuracy=95.26%, time=22.12[s]\n",
      "train size=17999 achieved highest accuracy of 95.26% on validation data\n"
     ]
    },
    {
     "name": "stderr",
     "output_type": "stream",
     "text": [
      " 78%|█████████████████████████████████████████████████████████████████▎                  | 7/9 [01:38<00:37, 18.90s/it]"
     ]
    },
    {
     "name": "stdout",
     "output_type": "stream",
     "text": [
      "train size=20999, accuracy=95.49%, time=25.61[s]\n",
      "train size=20999 achieved highest accuracy of 95.49% on validation data\n"
     ]
    },
    {
     "name": "stderr",
     "output_type": "stream",
     "text": [
      " 89%|██████████████████████████████████████████████████████████████████████████▋         | 8/9 [02:05<00:21, 21.65s/it]"
     ]
    },
    {
     "name": "stdout",
     "output_type": "stream",
     "text": [
      "train size=23999, accuracy=95.73%, time=27.50[s]\n",
      "train size=23999 achieved highest accuracy of 95.73% on validation data\n"
     ]
    },
    {
     "name": "stderr",
     "output_type": "stream",
     "text": [
      "100%|████████████████████████████████████████████████████████████████████████████████████| 9/9 [02:38<00:00, 17.66s/it]\n",
      "  0%|                                                                                            | 0/9 [00:00<?, ?it/s]"
     ]
    },
    {
     "name": "stdout",
     "output_type": "stream",
     "text": [
      "train size=26999, accuracy=95.91%, time=33.29[s]\n",
      "train size=26999 achieved highest accuracy of 95.91% on validation data\n"
     ]
    },
    {
     "name": "stderr",
     "output_type": "stream",
     "text": [
      " 11%|█████████▎                                                                          | 1/9 [00:04<00:36,  4.52s/it]"
     ]
    },
    {
     "name": "stdout",
     "output_type": "stream",
     "text": [
      "train size=3000, accuracy=90.57%, time=4.50[s]\n",
      "train size= 2999 achieved highest accuracy of 90.57% on validation data\n"
     ]
    },
    {
     "name": "stderr",
     "output_type": "stream",
     "text": [
      " 22%|██████████████████▋                                                                 | 2/9 [00:12<00:47,  6.77s/it]"
     ]
    },
    {
     "name": "stdout",
     "output_type": "stream",
     "text": [
      "train size=6000, accuracy=92.67%, time=8.33[s]\n",
      "train size= 5999 achieved highest accuracy of 92.67% on validation data\n"
     ]
    },
    {
     "name": "stderr",
     "output_type": "stream",
     "text": [
      " 33%|████████████████████████████                                                        | 3/9 [00:25<00:55,  9.29s/it]"
     ]
    },
    {
     "name": "stdout",
     "output_type": "stream",
     "text": [
      "train size=8999, accuracy=93.66%, time=12.27[s]\n",
      "train size= 8999 achieved highest accuracy of 93.66% on validation data\n"
     ]
    },
    {
     "name": "stderr",
     "output_type": "stream",
     "text": [
      " 44%|█████████████████████████████████████▎                                              | 4/9 [00:41<00:59, 11.98s/it]"
     ]
    },
    {
     "name": "stdout",
     "output_type": "stream",
     "text": [
      "train size=11999, accuracy=94.23%, time=16.08[s]\n",
      "train size=11999 achieved highest accuracy of 94.23% on validation data\n"
     ]
    },
    {
     "name": "stderr",
     "output_type": "stream",
     "text": [
      " 56%|██████████████████████████████████████████████▋                                     | 5/9 [01:02<01:01, 15.28s/it]"
     ]
    },
    {
     "name": "stdout",
     "output_type": "stream",
     "text": [
      "train size=14999, accuracy=94.58%, time=21.12[s]\n",
      "train size=14999 achieved highest accuracy of 94.58% on validation data\n"
     ]
    },
    {
     "name": "stderr",
     "output_type": "stream",
     "text": [
      " 67%|████████████████████████████████████████████████████████                            | 6/9 [01:23<00:52, 17.38s/it]"
     ]
    },
    {
     "name": "stdout",
     "output_type": "stream",
     "text": [
      "train size=17999, accuracy=94.99%, time=21.44[s]\n",
      "train size=17999 achieved highest accuracy of 94.99% on validation data\n"
     ]
    },
    {
     "name": "stderr",
     "output_type": "stream",
     "text": [
      " 78%|█████████████████████████████████████████████████████████████████▎                  | 7/9 [01:49<00:40, 20.00s/it]"
     ]
    },
    {
     "name": "stdout",
     "output_type": "stream",
     "text": [
      "train size=20999, accuracy=95.25%, time=25.38[s]\n",
      "train size=20999 achieved highest accuracy of 95.25% on validation data\n"
     ]
    },
    {
     "name": "stderr",
     "output_type": "stream",
     "text": [
      " 89%|██████████████████████████████████████████████████████████████████████████▋         | 8/9 [02:17<00:22, 22.64s/it]"
     ]
    },
    {
     "name": "stdout",
     "output_type": "stream",
     "text": [
      "train size=23999, accuracy=95.58%, time=28.26[s]\n",
      "train size=23999 achieved highest accuracy of 95.58% on validation data\n"
     ]
    },
    {
     "name": "stderr",
     "output_type": "stream",
     "text": [
      "100%|████████████████████████████████████████████████████████████████████████████████████| 9/9 [02:49<00:00, 18.84s/it]\n",
      "  0%|                                                                                            | 0/9 [00:00<?, ?it/s]"
     ]
    },
    {
     "name": "stdout",
     "output_type": "stream",
     "text": [
      "train size=26999, accuracy=95.82%, time=32.02[s]\n",
      "train size=26999 achieved highest accuracy of 95.82% on validation data\n"
     ]
    },
    {
     "name": "stderr",
     "output_type": "stream",
     "text": [
      " 11%|█████████▎                                                                          | 1/9 [00:04<00:34,  4.30s/it]"
     ]
    },
    {
     "name": "stdout",
     "output_type": "stream",
     "text": [
      "train size=3000, accuracy=90.29%, time=4.28[s]\n",
      "train size= 2999 achieved highest accuracy of 90.29% on validation data\n"
     ]
    },
    {
     "name": "stderr",
     "output_type": "stream",
     "text": [
      " 22%|██████████████████▋                                                                 | 2/9 [00:13<00:48,  6.97s/it]"
     ]
    },
    {
     "name": "stdout",
     "output_type": "stream",
     "text": [
      "train size=6000, accuracy=92.46%, time=8.83[s]\n",
      "train size= 5999 achieved highest accuracy of 92.46% on validation data\n"
     ]
    },
    {
     "name": "stderr",
     "output_type": "stream",
     "text": [
      " 33%|████████████████████████████                                                        | 3/9 [00:24<00:52,  8.76s/it]"
     ]
    },
    {
     "name": "stdout",
     "output_type": "stream",
     "text": [
      "train size=8999, accuracy=93.54%, time=10.88[s]\n",
      "train size= 8999 achieved highest accuracy of 93.54% on validation data\n"
     ]
    },
    {
     "name": "stderr",
     "output_type": "stream",
     "text": [
      " 44%|█████████████████████████████████████▎                                              | 4/9 [00:37<00:53, 10.67s/it]"
     ]
    },
    {
     "name": "stdout",
     "output_type": "stream",
     "text": [
      "train size=11999, accuracy=93.99%, time=13.56[s]\n",
      "train size=11999 achieved highest accuracy of 93.99% on validation data\n"
     ]
    },
    {
     "name": "stderr",
     "output_type": "stream",
     "text": [
      " 56%|██████████████████████████████████████████████▋                                     | 5/9 [00:54<00:51, 12.78s/it]"
     ]
    },
    {
     "name": "stdout",
     "output_type": "stream",
     "text": [
      "train size=14999, accuracy=94.38%, time=16.50[s]\n",
      "train size=14999 achieved highest accuracy of 94.38% on validation data\n"
     ]
    },
    {
     "name": "stderr",
     "output_type": "stream",
     "text": [
      " 67%|████████████████████████████████████████████████████████                            | 6/9 [01:13<00:45, 15.11s/it]"
     ]
    },
    {
     "name": "stdout",
     "output_type": "stream",
     "text": [
      "train size=17999, accuracy=94.77%, time=19.62[s]\n",
      "train size=17999 achieved highest accuracy of 94.77% on validation data\n"
     ]
    },
    {
     "name": "stderr",
     "output_type": "stream",
     "text": [
      " 78%|█████████████████████████████████████████████████████████████████▎                  | 7/9 [01:36<00:35, 17.56s/it]"
     ]
    },
    {
     "name": "stdout",
     "output_type": "stream",
     "text": [
      "train size=20999, accuracy=95.05%, time=22.59[s]\n",
      "train size=20999 achieved highest accuracy of 95.05% on validation data\n"
     ]
    },
    {
     "name": "stderr",
     "output_type": "stream",
     "text": [
      " 89%|██████████████████████████████████████████████████████████████████████████▋         | 8/9 [02:04<00:20, 20.77s/it]"
     ]
    },
    {
     "name": "stdout",
     "output_type": "stream",
     "text": [
      "train size=23999, accuracy=95.34%, time=27.62[s]\n",
      "train size=23999 achieved highest accuracy of 95.34% on validation data\n"
     ]
    },
    {
     "name": "stderr",
     "output_type": "stream",
     "text": [
      "100%|████████████████████████████████████████████████████████████████████████████████████| 9/9 [02:37<00:00, 17.47s/it]\n",
      "  0%|                                                                                            | 0/9 [00:00<?, ?it/s]"
     ]
    },
    {
     "name": "stdout",
     "output_type": "stream",
     "text": [
      "train size=26999, accuracy=95.60%, time=33.17[s]\n",
      "train size=26999 achieved highest accuracy of 95.60% on validation data\n"
     ]
    },
    {
     "name": "stderr",
     "output_type": "stream",
     "text": [
      " 11%|█████████▎                                                                          | 1/9 [00:05<00:40,  5.05s/it]"
     ]
    },
    {
     "name": "stdout",
     "output_type": "stream",
     "text": [
      "train size=3000, accuracy=89.93%, time=5.02[s]\n",
      "train size= 2999 achieved highest accuracy of 89.93% on validation data\n"
     ]
    },
    {
     "name": "stderr",
     "output_type": "stream",
     "text": [
      " 22%|██████████████████▋                                                                 | 2/9 [00:13<00:49,  7.03s/it]"
     ]
    },
    {
     "name": "stdout",
     "output_type": "stream",
     "text": [
      "train size=6000, accuracy=92.36%, time=8.40[s]\n",
      "train size= 5999 achieved highest accuracy of 92.36% on validation data\n"
     ]
    },
    {
     "name": "stderr",
     "output_type": "stream",
     "text": [
      " 33%|████████████████████████████                                                        | 3/9 [00:24<00:53,  8.90s/it]"
     ]
    },
    {
     "name": "stdout",
     "output_type": "stream",
     "text": [
      "train size=8999, accuracy=93.31%, time=11.10[s]\n",
      "train size= 8999 achieved highest accuracy of 93.31% on validation data\n"
     ]
    },
    {
     "name": "stderr",
     "output_type": "stream",
     "text": [
      " 44%|█████████████████████████████████████▎                                              | 4/9 [00:38<00:53, 10.76s/it]"
     ]
    },
    {
     "name": "stdout",
     "output_type": "stream",
     "text": [
      "train size=11999, accuracy=93.86%, time=13.59[s]\n",
      "train size=11999 achieved highest accuracy of 93.86% on validation data\n"
     ]
    },
    {
     "name": "stderr",
     "output_type": "stream",
     "text": [
      " 56%|██████████████████████████████████████████████▋                                     | 5/9 [00:56<00:53, 13.39s/it]"
     ]
    },
    {
     "name": "stdout",
     "output_type": "stream",
     "text": [
      "train size=14999, accuracy=94.18%, time=18.05[s]\n",
      "train size=14999 achieved highest accuracy of 94.18% on validation data\n"
     ]
    },
    {
     "name": "stderr",
     "output_type": "stream",
     "text": [
      " 67%|████████████████████████████████████████████████████████                            | 6/9 [01:18<00:49, 16.56s/it]"
     ]
    },
    {
     "name": "stdout",
     "output_type": "stream",
     "text": [
      "train size=17999, accuracy=94.60%, time=22.69[s]\n",
      "train size=17999 achieved highest accuracy of 94.60% on validation data\n"
     ]
    },
    {
     "name": "stderr",
     "output_type": "stream",
     "text": [
      " 78%|█████████████████████████████████████████████████████████████████▎                  | 7/9 [01:41<00:36, 18.49s/it]"
     ]
    },
    {
     "name": "stdout",
     "output_type": "stream",
     "text": [
      "train size=20999, accuracy=94.92%, time=22.43[s]\n",
      "train size=20999 achieved highest accuracy of 94.92% on validation data\n"
     ]
    },
    {
     "name": "stderr",
     "output_type": "stream",
     "text": [
      " 89%|██████████████████████████████████████████████████████████████████████████▋         | 8/9 [02:06<00:20, 20.72s/it]"
     ]
    },
    {
     "name": "stdout",
     "output_type": "stream",
     "text": [
      "train size=23999, accuracy=95.17%, time=25.50[s]\n",
      "train size=23999 achieved highest accuracy of 95.17% on validation data\n"
     ]
    },
    {
     "name": "stderr",
     "output_type": "stream",
     "text": [
      "100%|████████████████████████████████████████████████████████████████████████████████████| 9/9 [02:35<00:00, 17.32s/it]"
     ]
    },
    {
     "name": "stdout",
     "output_type": "stream",
     "text": [
      "train size=26999, accuracy=95.40%, time=28.93[s]\n",
      "train size=26999 achieved highest accuracy of 95.40% on validation data\n"
     ]
    },
    {
     "name": "stderr",
     "output_type": "stream",
     "text": [
      "\n"
     ]
    }
   ],
   "source": [
    "# parameters-------------------------------------\n",
    "k_list = [3, 5, 7, 9, 11, 13, 15] # knnのkの値を設定\n",
    "test_size = 0.01 # 検証データ\n",
    "random_state = 60 # train_test_split()のrandom_stateの引数\n",
    "# -----------------------------------------------\n",
    "\n",
    "# 全60,000件の学習データのうち，test_sizeで指定した割合のデータを検証用データにとっておく\n",
    "trData, valData, trLabels, valLabels = train_test_split(np.array(X_train), Y_train, test_size=test_size, random_state=random_state)\n",
    "\n",
    "# 何%を検証用にするか\n",
    "nVals = np.arange(0.9, 0.0, -0.1)\n",
    "\n",
    "accuracies = []\n",
    "times = []\n",
    "pridicts = []\n",
    "\n",
    "for k in k_list:\n",
    "    accuracy = []  # 正確度保存用\n",
    "    proc_time = []   # 実行時間保存用\n",
    "    for per in tqdm( nVals ):  # tqdmを使うとき\n",
    "        # 48000件のデータのうち，per％をテスト用に，残りを学習用として確保\n",
    "        trainData, testData, trainLabels, testLabels = train_test_split(trData, trLabels, test_size=per, random_state=42)\n",
    "        start = time.time()  # 時間計測開始\n",
    "\n",
    "        # NNモデル\n",
    "        model = KNeighborsClassifier(n_neighbors=k)\n",
    "        model.fit(trainData, trainLabels)\n",
    "\n",
    "        # 検証用データを使って実行\n",
    "        score = model.score(valData, valLabels)    \n",
    "\n",
    "        duration = time.time() - start  # 計測終了\n",
    "\n",
    "        print(\"train size=%d, accuracy=%.2f%%, time=%.2f[s]\" % (len(trainLabels), score * 100, duration))\n",
    "        # 正確度と処理時間を保存\n",
    "        accuracy.append(score)\n",
    "        proc_time.append(duration)\n",
    "        \n",
    "        # モデルの予想\n",
    "        val_predict = model.predict(valData)\n",
    "        \n",
    "        wrong_list = []\n",
    "        wrong_value = []\n",
    "        correct_value = []\n",
    "        for i in range(len(val_predict)):\n",
    "            if val_predict[i] != valLabels[i]:\n",
    "                wrong_list.append(i)\n",
    "                wrong_value.append(val_predict[i])\n",
    "                correct_value.append(valLabels[i])\n",
    "        plt.figure(figsize=(14,10))\n",
    "        for i in range(len(correct_value)):\n",
    "            ax = plt.subplot(3, 6, i + 1)\n",
    "            ax.set_axis_off()\n",
    "            ax.set_title( \"correct: {}, wrong:{}\".format(correct_value[i], wrong_value[i]))\n",
    "            plt.imshow(valData[wrong_list[i]].reshape(28, 28).astype(\"uint8\"))\n",
    "        plt.show()\n",
    "\n",
    "        # 生確度と処理時間の結果を別ファイルに保存\n",
    "        resultfilename = \"k=\" + str(k) + \"_train\" + str((1-test_size)*100) + \"%_accuracies.txt\"\n",
    "        with open(resultfilename, mode='w') as f:\n",
    "            for d in accuracies:\n",
    "                f.write(\"%s\\n\" % d)\n",
    "\n",
    "        resultfilename = \"k=\" + str(k) + \"_train\" + str((1-test_size)*100) + \"%_times.txt\"\n",
    "        with open(resultfilename, mode='w') as f:\n",
    "            for d in proc_time:\n",
    "                f.write(\"%s\\n\" % d)\n",
    "        \n",
    "    accuracies.append(accuracy)\n",
    "    times.append(proc_time)"
   ]
  },
  {
   "cell_type": "code",
   "execution_count": null,
   "id": "259938eb-d2ce-49bf-a154-58906fa87f61",
   "metadata": {},
   "outputs": [],
   "source": [
    "plt.clf()\n",
    "plt.rcParams['font.size'] = 16\n",
    "\n",
    "# グラフ用\n",
    "fig, ax1 = plt.subplots(figsize=(12,10))\n",
    "\n",
    "# x軸は学習データ数にする\n",
    "x = len(trLabels) * (1-nVals)\n",
    "plt.xlabel('Number of training samples')\n",
    "\n",
    "# 1軸に識別率\n",
    "ax1.plot(x, np.array(accuracies), color = 'r', label = 'accuracies')\n",
    "# 1軸と2軸の関連づけ\n",
    "plt.ylabel('Accuracies')\n",
    "plt.legend()\n",
    "ax2 = ax1.twinx()\n",
    "# 2軸に処理時間\n",
    "ax2.plot(x, np.array(proc_time), 'b', label = 'processing time')\n",
    "plt.ylabel('Processing Time [s]')\n",
    "\n",
    "# ファイル保存したいとき\n",
    "name = 'nn_k=' + str(k) + '_compare.png'\n",
    "plt.savefig(name)\n",
    "\n",
    "plt.show()"
   ]
  }
 ],
 "metadata": {
  "kernelspec": {
   "display_name": "Python 3",
   "language": "python",
   "name": "python3"
  },
  "language_info": {
   "codemirror_mode": {
    "name": "ipython",
    "version": 3
   },
   "file_extension": ".py",
   "mimetype": "text/x-python",
   "name": "python",
   "nbconvert_exporter": "python",
   "pygments_lexer": "ipython3",
   "version": "3.8.5"
  }
 },
 "nbformat": 4,
 "nbformat_minor": 5
}
