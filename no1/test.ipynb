{
 "cells": [
  {
   "cell_type": "code",
   "execution_count": 6,
   "id": "a3e9c0a4-05b8-4eab-bd51-b32df216dee3",
   "metadata": {},
   "outputs": [],
   "source": [
    "import numpy as np\n",
    "\n",
    "num_all   = 150\n",
    "num_test  = int(num_all * 0.1)\n",
    "num_train = num_all - num_test"
   ]
  },
  {
   "cell_type": "code",
   "execution_count": 8,
   "id": "f1df5371-5b6d-43e9-8161-9a7e685f3612",
   "metadata": {},
   "outputs": [
    {
     "data": {
      "text/plain": [
       "135"
      ]
     },
     "execution_count": 8,
     "metadata": {},
     "output_type": "execute_result"
    }
   ],
   "source": [
    "num_train"
   ]
  },
  {
   "cell_type": "code",
   "execution_count": 11,
   "id": "b44020ff-18c3-4e0e-ba5a-c60d1c02f19c",
   "metadata": {},
   "outputs": [],
   "source": [
    "id_all   = np.random.choice(num_all, size=num_all, replace=False)\n",
    "id_test  = id_all[0:num_test]\n",
    "id_train = id_all[num_test:num_all]"
   ]
  },
  {
   "cell_type": "code",
   "execution_count": 14,
   "id": "8abcaf15-4836-4ab4-b0fe-76375962a7cd",
   "metadata": {},
   "outputs": [
    {
     "data": {
      "text/plain": [
       "15"
      ]
     },
     "execution_count": 14,
     "metadata": {},
     "output_type": "execute_result"
    }
   ],
   "source": [
    "len(id_test)"
   ]
  },
  {
   "cell_type": "code",
   "execution_count": 15,
   "id": "20d98bc1-cbaa-4f35-912d-8005a5608bd5",
   "metadata": {},
   "outputs": [
    {
     "data": {
      "text/plain": [
       "135"
      ]
     },
     "execution_count": 15,
     "metadata": {},
     "output_type": "execute_result"
    }
   ],
   "source": [
    "len(id_train)"
   ]
  }
 ],
 "metadata": {
  "kernelspec": {
   "display_name": "Python 3",
   "language": "python",
   "name": "python3"
  },
  "language_info": {
   "codemirror_mode": {
    "name": "ipython",
    "version": 3
   },
   "file_extension": ".py",
   "mimetype": "text/x-python",
   "name": "python",
   "nbconvert_exporter": "python",
   "pygments_lexer": "ipython3",
   "version": "3.8.5"
  }
 },
 "nbformat": 4,
 "nbformat_minor": 5
}
