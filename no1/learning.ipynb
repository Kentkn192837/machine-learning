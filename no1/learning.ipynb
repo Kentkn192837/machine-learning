{
 "cells": [
  {
   "cell_type": "code",
   "execution_count": 49,
   "id": "e88398a1-2d3f-49af-8dd5-650dcd19d53d",
   "metadata": {},
   "outputs": [],
   "source": [
    "from tensorflow.keras.datasets.mnist import load_data\n",
    "import numpy as np\n",
    "import pandas as pd\n",
    "from matplotlib import pyplot as plt\n",
    "from sklearn.model_selection import train_test_split\n",
    "from sklearn.neighbors import KNeighborsClassifier\n",
    "from sklearn.metrics import classification_report\n",
    "import time\n",
    "from tqdm import tqdm\n",
    "%matplotlib inline\n",
    "\n",
    "(X_train, Y_train), (X_test, Y_test) = load_data()\n",
    "\n",
    "# 画像データの変換\n",
    "X_train = X_train.reshape(60000, 28 * 28)\n",
    "X_test = X_test.reshape(10000, 28 * 28)"
   ]
  },
  {
   "cell_type": "code",
   "execution_count": 52,
   "id": "2c712596-a991-4a5d-bef7-ccb1ff2c3a82",
   "metadata": {},
   "outputs": [
    {
     "name": "stdout",
     "output_type": "stream",
     "text": [
      "trData(学習用データ):  (59400, 784)\n",
      "valData(検証用データ):  (600, 784)\n",
      "trainData(訓練時の学習データ):  (53460, 784)\n",
      "testData(訓練時のテストデータ):  (5940, 784)\n",
      "trainLabels(学習データの正解ラベルの数):  53460\n",
      "testLabels(テストデータの正解ラベルの数):  5940\n"
     ]
    }
   ],
   "source": [
    "# 検証用データとして確保する割合\n",
    "value_size = 0.01\n",
    "# 訓練時のテストデータとして確保する割合\n",
    "test_size = 0.1\n",
    "random_state = 60\n",
    "# knn法のkの値\n",
    "k = 5\n",
    "\n",
    "accuracies = []  # 正確度保存用\n",
    "proc_time = []   # 実行時間保存用\n",
    "\n",
    "trData, valData, trLabels, valLabels = train_test_split(np.array(X_train),\n",
    "                                                        Y_train, test_size=value_size,\n",
    "                                                        random_state=random_state\n",
    "                                                       )\n",
    "print(\"trData(学習用データ): \", trData.shape)\n",
    "print(\"valData(検証用データ): \", valData.shape)\n",
    "# print(\"trLabels: \", trLabels)\n",
    "# print(\"valLabels: \", valLabels)\n",
    "\n",
    "trainData, testData, trainLabels, testLabels = train_test_split(trData,\n",
    "                                                                trLabels,\n",
    "                                                                test_size=test_size,\n",
    "                                                                random_state=42\n",
    "                                                               )\n",
    "print(\"trainData(訓練時の学習データ): \", trainData.shape)\n",
    "print(\"testData(訓練時のテストデータ): \", testData.shape)\n",
    "print(\"trainLabels(学習データの正解ラベルの数): \", len(trainLabels))\n",
    "print(\"testLabels(テストデータの正解ラベルの数): \", len(testLabels))\n",
    "\n",
    "start = time.time()  # 時間計測開始\n",
    "model = KNeighborsClassifier(n_neighbors=k)\n",
    "model.fit(trainData, trainLabels)\n",
    "duration = time.time() - start  # 計測終了"
   ]
  },
  {
   "cell_type": "code",
   "execution_count": 53,
   "id": "2e8da13e-c247-432c-9bfc-fd6f636f8d2d",
   "metadata": {},
   "outputs": [
    {
     "name": "stdout",
     "output_type": "stream",
     "text": [
      "600\n"
     ]
    }
   ],
   "source": [
    "val_predict = model.predict(valData)\n",
    "print(len(val_predict))"
   ]
  },
  {
   "cell_type": "code",
   "execution_count": 54,
   "id": "e713d9b8-0248-46a7-ad48-8c665c97720e",
   "metadata": {},
   "outputs": [
    {
     "name": "stdout",
     "output_type": "stream",
     "text": [
      "[1, 7, 9, 8, 9, 4, 5, 4, 5, 0, 1, 7, 5, 8, 0, 9, 4, 0, 2, 0, 1, 7, 3, 6, 0, 5, 2, 3, 2, 9, 5, 5, 1, 5, 9, 3, 6, 3, 8, 6, 8, 6, 5, 2, 5, 5, 7, 2, 1, 2, 4, 8, 8, 7, 3, 5, 2, 8, 4, 0, 4, 6, 7, 5, 4, 2, 2, 1, 9, 2, 6, 1, 7, 0, 0, 9, 7, 9, 6, 1, 7, 2, 5, 6, 1, 6, 9, 2, 9, 4, 8, 0, 2, 4, 1, 5, 5, 7, 4, 9, 3, 9, 3, 1, 2, 0, 1, 2, 0, 1, 5, 7, 4, 5, 9, 9, 1, 6, 0, 0, 7, 1, 3, 7, 7, 1, 2, 7, 7, 1, 3, 5, 2, 3, 0, 2, 9, 2, 7, 0, 5, 6, 3, 8, 5, 8, 5, 9, 0, 5, 0, 5, 2, 9, 7, 8, 6, 7, 6, 8, 7, 4, 8, 8, 5, 2, 4, 8, 9, 2, 0, 8, 0, 0, 0, 2, 7, 4, 9, 6, 5, 9, 5, 7, 2, 2, 4, 2, 4, 5, 8, 8, 9, 7, 9, 3, 6, 5, 5, 4, 3, 3, 8, 5, 1, 1, 2, 9, 7, 7, 9, 5, 0, 9, 6, 3, 3, 3, 9, 7, 6, 6, 0, 3, 7, 7, 3, 0, 4, 3, 3, 6, 9, 5, 7, 0, 6, 8, 8, 0, 5, 6, 7, 3, 3, 4, 8, 1, 6, 4, 3, 8, 5, 1, 7, 9, 1, 4, 6, 4, 3, 1, 1, 9, 9, 0, 4, 9, 8, 7, 8, 2, 8, 3, 8, 9, 7, 1, 8, 8, 4, 3, 8, 7, 1, 9, 1, 9, 7, 3, 1, 0, 7, 1, 3, 7, 7, 3, 6, 9, 1, 2, 7, 2, 4, 0, 2, 6, 3, 0, 2, 1, 9, 1, 5, 1, 2, 1, 6, 5, 9, 0, 4, 5, 5, 5, 4, 3, 4, 9, 6, 7, 7, 6, 1, 2, 8, 6, 9, 1, 9, 0, 4, 9, 9, 9, 6, 3, 7, 2, 5, 9, 7, 2, 2, 1, 7, 9, 7, 4, 9, 1, 2, 1, 4, 2, 6, 1, 1, 5, 7, 1, 7, 9, 4, 0, 1, 0, 4, 9, 3, 6, 7, 0, 0, 5, 4, 6, 4, 1, 6, 1, 4, 5, 0, 0, 2, 5, 2, 4, 9, 4, 8, 4, 6, 7, 7, 2, 4, 3, 7, 8, 5, 8, 0, 9, 4, 0, 6, 1, 0, 0, 3, 2, 2, 3, 4, 3, 1, 0, 5, 2, 3, 7, 7, 0, 0, 8, 2, 2, 5, 6, 6, 4, 3, 0, 0, 3, 0, 2, 4, 1, 0, 2, 7, 1, 0, 4, 3, 1, 3, 8, 4, 1, 9, 1, 9, 7, 2, 7, 9, 6, 7, 4, 0, 2, 1, 4, 3, 8, 7, 8, 1, 0, 4, 8, 7, 2, 7, 9, 0, 4, 2, 9, 7, 1, 3, 5, 2, 1, 0, 4, 5, 1, 3, 4, 5, 7, 3, 9, 8, 2, 7, 8, 7, 5, 2, 2, 2, 7, 1, 3, 9, 0, 0, 8, 6, 6, 0, 1, 2, 3, 9, 6, 2, 9, 4, 0, 9, 3, 4, 4, 5, 8, 2, 7, 5, 4, 2, 4, 7, 9, 4, 2, 1, 2, 0, 0, 9, 6, 5, 3, 3, 2, 3, 3, 1, 9, 4, 1, 8, 7, 1, 1, 3, 3, 4, 9, 4, 4, 8, 2, 2, 1, 8, 5, 3, 4, 5, 5, 8, 3, 5, 0, 5, 9, 4, 0, 1, 4]\n"
     ]
    }
   ],
   "source": [
    "val_predict = list(val_predict)\n",
    "print(val_predict)"
   ]
  },
  {
   "cell_type": "code",
   "execution_count": 55,
   "id": "364ca9fc-3f26-4467-bb0c-40aa8f0238e1",
   "metadata": {},
   "outputs": [
    {
     "name": "stdout",
     "output_type": "stream",
     "text": [
      "[5] score: 0.97\n"
     ]
    }
   ],
   "source": [
    "score = model.score(valData, valLabels)\n",
    "print(\"[%d] score: {:.2f}\".format(score) % k)"
   ]
  },
  {
   "cell_type": "code",
   "execution_count": 56,
   "id": "4474f911-e9c1-487c-b903-9e6775b5592a",
   "metadata": {},
   "outputs": [
    {
     "data": {
      "text/plain": [
       "array([1, 7, 9, 8, 9, 4, 5, 4, 5, 0, 7, 7, 5, 8, 0, 9, 4, 0, 2, 0, 1, 7,\n",
       "       3, 6, 0, 5, 2, 3, 2, 9, 5, 5, 1, 5, 9, 3, 6, 3, 8, 6, 8, 6, 5, 2,\n",
       "       5, 5, 7, 2, 1, 2, 4, 8, 8, 0, 3, 5, 2, 8, 4, 0, 4, 6, 7, 5, 4, 2,\n",
       "       2, 1, 9, 2, 6, 1, 7, 0, 0, 9, 7, 9, 6, 1, 7, 2, 5, 6, 1, 6, 9, 2,\n",
       "       9, 4, 8, 0, 2, 4, 1, 5, 5, 7, 5, 9, 3, 9, 3, 1, 2, 0, 1, 2, 0, 1,\n",
       "       5, 7, 4, 5, 3, 9, 1, 6, 2, 0, 7, 1, 3, 7, 7, 1, 2, 7, 7, 1, 3, 5,\n",
       "       2, 3, 0, 2, 9, 2, 7, 0, 5, 6, 3, 8, 5, 8, 5, 9, 0, 5, 0, 5, 2, 9,\n",
       "       7, 8, 6, 7, 6, 8, 7, 4, 8, 8, 5, 2, 4, 8, 9, 2, 0, 8, 0, 0, 0, 2,\n",
       "       7, 4, 9, 6, 5, 9, 5, 7, 2, 2, 4, 2, 4, 5, 8, 8, 9, 7, 9, 3, 6, 5,\n",
       "       5, 4, 3, 3, 8, 5, 1, 1, 2, 9, 7, 7, 9, 5, 0, 9, 6, 3, 3, 3, 9, 7,\n",
       "       6, 6, 0, 3, 7, 7, 3, 0, 4, 3, 3, 6, 9, 5, 7, 0, 6, 8, 8, 0, 5, 6,\n",
       "       7, 3, 3, 4, 8, 1, 6, 4, 3, 8, 5, 1, 7, 9, 8, 4, 6, 4, 3, 1, 1, 9,\n",
       "       9, 0, 4, 9, 8, 7, 8, 2, 8, 3, 8, 9, 7, 1, 8, 8, 4, 3, 8, 7, 1, 9,\n",
       "       1, 9, 7, 3, 1, 0, 7, 1, 3, 7, 7, 3, 6, 9, 1, 2, 7, 2, 4, 0, 2, 6,\n",
       "       3, 0, 2, 1, 9, 1, 5, 1, 2, 1, 6, 5, 9, 0, 4, 5, 5, 5, 4, 3, 4, 9,\n",
       "       6, 7, 7, 6, 1, 2, 8, 6, 9, 1, 9, 0, 4, 9, 9, 9, 6, 3, 7, 2, 5, 9,\n",
       "       7, 2, 2, 1, 7, 9, 9, 4, 9, 1, 2, 1, 4, 2, 6, 1, 1, 5, 7, 1, 7, 9,\n",
       "       4, 0, 1, 0, 4, 9, 3, 6, 2, 0, 0, 5, 4, 6, 4, 1, 6, 8, 4, 5, 9, 0,\n",
       "       2, 5, 2, 4, 9, 4, 8, 4, 6, 7, 7, 2, 4, 3, 7, 8, 5, 8, 0, 9, 4, 0,\n",
       "       6, 1, 0, 0, 3, 2, 2, 3, 4, 3, 1, 0, 5, 2, 3, 7, 7, 0, 0, 8, 2, 2,\n",
       "       5, 6, 6, 4, 3, 0, 0, 3, 0, 2, 4, 1, 0, 2, 7, 1, 0, 4, 3, 1, 3, 8,\n",
       "       4, 1, 9, 1, 9, 7, 2, 7, 9, 6, 7, 4, 0, 2, 1, 4, 3, 8, 7, 8, 1, 0,\n",
       "       4, 8, 7, 2, 7, 9, 0, 4, 2, 9, 7, 2, 3, 5, 2, 1, 0, 4, 5, 1, 3, 4,\n",
       "       5, 7, 3, 9, 8, 2, 7, 8, 7, 5, 2, 2, 2, 7, 1, 3, 9, 5, 0, 8, 6, 6,\n",
       "       0, 1, 2, 3, 9, 6, 2, 9, 4, 2, 9, 3, 4, 4, 5, 8, 2, 7, 5, 4, 2, 4,\n",
       "       7, 9, 4, 2, 1, 2, 0, 0, 9, 6, 6, 9, 3, 2, 3, 3, 1, 9, 4, 1, 8, 7,\n",
       "       8, 1, 3, 3, 4, 9, 4, 4, 8, 2, 2, 1, 8, 5, 3, 4, 5, 5, 8, 3, 5, 0,\n",
       "       5, 9, 4, 0, 1, 4], dtype=uint8)"
      ]
     },
     "execution_count": 56,
     "metadata": {},
     "output_type": "execute_result"
    }
   ],
   "source": [
    "valLabels"
   ]
  },
  {
   "cell_type": "code",
   "execution_count": 57,
   "id": "87c3c55d-51ad-4d9a-9c00-77d7c3ba6733",
   "metadata": {},
   "outputs": [],
   "source": [
    "wrong_list = []\n",
    "wrong_value = []\n",
    "correct_value = []\n",
    "for i in range(len(val_predict)):\n",
    "    if val_predict[i] != valLabels[i]:\n",
    "        wrong_list.append(i)\n",
    "        wrong_value.append(val_predict[i])\n",
    "        correct_value.append(valLabels[i])"
   ]
  },
  {
   "cell_type": "code",
   "execution_count": 58,
   "id": "904e550f-fb2e-4393-a7b6-6878d4935565",
   "metadata": {},
   "outputs": [
    {
     "data": {
      "text/plain": [
       "[10, 53, 98, 114, 118, 256, 358, 382, 391, 394, 495, 523, 537, 560, 561, 572]"
      ]
     },
     "execution_count": 58,
     "metadata": {},
     "output_type": "execute_result"
    }
   ],
   "source": [
    "wrong_list"
   ]
  },
  {
   "cell_type": "code",
   "execution_count": 59,
   "id": "e85fa76c-29fb-4d19-b554-ac4dbda2264c",
   "metadata": {},
   "outputs": [
    {
     "data": {
      "text/plain": [
       "[1, 7, 4, 9, 0, 1, 7, 7, 1, 0, 1, 0, 0, 5, 3, 1]"
      ]
     },
     "execution_count": 59,
     "metadata": {},
     "output_type": "execute_result"
    }
   ],
   "source": [
    "wrong_value"
   ]
  },
  {
   "cell_type": "code",
   "execution_count": 60,
   "id": "d80d706b-7ce9-4a73-aa82-ece61f47e7fd",
   "metadata": {},
   "outputs": [
    {
     "data": {
      "text/plain": [
       "[7, 0, 5, 3, 2, 8, 9, 2, 8, 9, 2, 5, 2, 6, 9, 8]"
      ]
     },
     "execution_count": 60,
     "metadata": {},
     "output_type": "execute_result"
    }
   ],
   "source": [
    "correct_value"
   ]
  },
  {
   "cell_type": "code",
   "execution_count": 61,
   "id": "a7096310-65c4-4464-9653-b5974f97995f",
   "metadata": {},
   "outputs": [
    {
     "data": {
      "image/png": "[encoded data removed]",
      "text/plain": [
       "<Figure size 1008x720 with 16 Axes>"
      ]
     },
     "metadata": {
      "needs_background": "light"
     },
     "output_type": "display_data"
    }
   ],
   "source": [
    "plt.figure(figsize=(14,10))\n",
    "for i in range(len(correct_value)):\n",
    "    ax = plt.subplot(3, 6, i + 1)\n",
    "    ax.set_axis_off()\n",
    "    ax.set_title( \"correct: {}, wrong:{}\".format(correct_value[i], wrong_value[i]))\n",
    "    plt.imshow(valData[wrong_list[i]].reshape(28, 28).astype(\"uint8\"))\n",
    "plt.show()"
   ]
  },
  {
   "cell_type": "code",
   "execution_count": null,
   "id": "91691ff2-1bcf-4926-8a2a-70916f6721e1",
   "metadata": {},
   "outputs": [],
   "source": []
  }
 ],
 "metadata": {
  "kernelspec": {
   "display_name": "Python 3",
   "language": "python",
   "name": "python3"
  },
  "language_info": {
   "codemirror_mode": {
    "name": "ipython",
    "version": 3
   },
   "file_extension": ".py",
   "mimetype": "text/x-python",
   "name": "python",
   "nbconvert_exporter": "python",
   "pygments_lexer": "ipython3",
   "version": "3.8.5"
  }
 },
 "nbformat": 4,
 "nbformat_minor": 5
}
