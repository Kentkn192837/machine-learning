{
 "cells": [
  {
   "cell_type": "markdown",
   "id": "5f39904c-02be-45c9-9106-cf9eb36e3394",
   "metadata": {},
   "source": [
    "# ベクトル\n",
    "## ベクトルとは\n",
    "- ベクトルを構成する数字1つ1つを<b>要素</b>と呼ぶ。\n",
    "- ベクトルが持つ要素の数をベクトルの<b>次元</b>と呼ぶ。"
   ]
  },
  {
   "cell_type": "markdown",
   "id": "9e2a4721-9eb6-43db-9a05-ab7a9e6e1b53",
   "metadata": {},
   "source": [
    "## ベクトルの大きさ\n",
    "$\\|\\boldsymbol{a}\\|=\\sqrt{a_0^2 + a_1^2}$"
   ]
  }
 ],
 "metadata": {
  "kernelspec": {
   "display_name": "Python 3",
   "language": "python",
   "name": "python3"
  },
  "language_info": {
   "codemirror_mode": {
    "name": "ipython",
    "version": 3
   },
   "file_extension": ".py",
   "mimetype": "text/x-python",
   "name": "python",
   "nbconvert_exporter": "python",
   "pygments_lexer": "ipython3",
   "version": "3.8.5"
  }
 },
 "nbformat": 4,
 "nbformat_minor": 5
}
