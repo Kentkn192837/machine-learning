{
 "cells": [
  {
   "cell_type": "markdown",
   "id": "2ac81112-96fe-4a13-a3f2-1230acace86b",
   "metadata": {},
   "source": [
    "# MNISTデータの取得"
   ]
  },
  {
   "cell_type": "code",
   "execution_count": 3,
   "id": "210755ed-4f8e-4c95-b608-e835e4835910",
   "metadata": {},
   "outputs": [],
   "source": [
    "from keras.datasets import mnist\n",
    "\n",
    "(x_train, y_train), (x_test, y_test) = mnist.load_data()"
   ]
  },
  {
   "cell_type": "code",
   "execution_count": 5,
   "id": "279ea76c-6c4d-4ca2-9a41-8624bfa9e181",
   "metadata": {},
   "outputs": [
    {
     "data": {
      "image/png": "[encoded data removed]",
      "text/plain": [
       "<Figure size 864x230.4 with 3 Axes>"
      ]
     },
     "metadata": {
      "needs_background": "light"
     },
     "output_type": "display_data"
    }
   ],
   "source": [
    "import numpy as np\n",
    "import matplotlib.pyplot as plt\n",
    "%matplotlib inline\n",
    "\n",
    "plt.figure(1, figsize=(12, 3.2))\n",
    "plt.subplots_adjust(wspace=0.5)\n",
    "plt.gray()\n",
    "for id in range(3):\n",
    "    plt.subplot(1, 3, id + 1)\n",
    "    img = x_train[id, :, :]    # id番目の画像を取得\n",
    "    plt.pcolor(255 - img)\n",
    "    plt.text(24.5, 26, \"%d\" % y_train[id], color='cornflowerblue', fontsize=18)\n",
    "    plt.xlim(0, 27)\n",
    "    plt.ylim(27, 0)\n",
    "plt.show()"
   ]
  },
  {
   "cell_type": "markdown",
   "id": "fcddfa8b-3b3d-4323-81e2-7833aa8d50aa",
   "metadata": {},
   "source": [
    "## データの整形\n",
    "\n",
    "`keras.utils.np_utils.to_categorical()`で1ofK符号化法に変更する。"
   ]
  },
  {
   "cell_type": "code",
   "execution_count": null,
   "id": "d13f9f80-17fe-4bf4-b10e-16a15e181e5a",
   "metadata": {},
   "outputs": [],
   "source": [
    "from keras.utils import np_utils\n",
    "\n",
    "x_"
   ]
  }
 ],
 "metadata": {
  "kernelspec": {
   "display_name": "Python 3",
   "language": "python",
   "name": "python3"
  },
  "language_info": {
   "codemirror_mode": {
    "name": "ipython",
    "version": 3
   },
   "file_extension": ".py",
   "mimetype": "text/x-python",
   "name": "python",
   "nbconvert_exporter": "python",
   "pygments_lexer": "ipython3",
   "version": "3.8.5"
  }
 },
 "nbformat": 4,
 "nbformat_minor": 5
}
