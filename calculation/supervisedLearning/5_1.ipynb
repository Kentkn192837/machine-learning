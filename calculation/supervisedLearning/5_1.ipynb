{
 "cells": [
  {
   "cell_type": "code",
   "execution_count": 1,
   "id": "21c4ff38-68ff-4fb3-a1a4-88e2bb59dd32",
   "metadata": {},
   "outputs": [
    {
     "name": "stdout",
     "output_type": "stream",
     "text": [
      "[15.43 23.01  5.   12.56  8.67  7.31  9.66 13.64 14.92 18.47 15.48 22.13\n",
      " 10.11 26.95  5.68 21.76]\n",
      "[170.91 160.68 129.   159.7  155.46 140.56 153.65 159.43 164.7  169.65\n",
      " 160.71 173.29 159.31 171.52 138.96 165.87]\n"
     ]
    }
   ],
   "source": [
    "import numpy as np\n",
    "import matplotlib.pyplot as plt\n",
    "%matplotlib inline\n",
    "\n",
    "np.random.seed(seed=1)\n",
    "\n",
    "def make_training_data():\n",
    "    X_min = 4\n",
    "    X_max = 30\n",
    "    X_n = 16\n",
    "    return 5 + 25 * np.random.rand(X_n)\n",
    "\n",
    "def make_teach_data(x, x_n):\n",
    "    Prm_c = [170, 108, 0.2]\n",
    "    return Prm_c[0] - Prm_c[1] * np.exp(-Prm_c[2] * x) + 4 * np.random.randn(x_n)\n",
    "\n",
    "X = make_training_data()\n",
    "T = make_teach_data(X, 16)\n",
    "\n",
    "print(np.round(X, 2))    # 小数点以下2桁で数値を表す\n",
    "print(np.round(T, 2))"
   ]
  },
  {
   "cell_type": "code",
   "execution_count": 2,
   "id": "15dd7060-859c-4dab-a89c-d115e95d43ad",
   "metadata": {},
   "outputs": [
    {
     "data": {
      "image/png": "[encoded data removed]",
      "text/plain": [
       "<Figure size 432x288 with 1 Axes>"
      ]
     },
     "metadata": {
      "needs_background": "light"
     },
     "output_type": "display_data"
    }
   ],
   "source": [
    "plt.plot(X, T, marker='o', linestyle='None', color='#0000ff')\n",
    "plt.grid()\n",
    "plt.show()"
   ]
  },
  {
   "cell_type": "code",
   "execution_count": null,
   "id": "b3a9f7b0-7308-4d70-a606-a4cc925a17c6",
   "metadata": {},
   "outputs": [],
   "source": [
    "from mpl_toolkits.mplot3d import Axes3D\n",
    "\n",
    "def mse_line(x, t, w):\n",
    "    y = w[0] * x + w[1]\n",
    "    return np.mean((y - t) ** 2)\n",
    "\n",
    "xn = 100\n",
    "w0_range = [-25, 25]\n",
    "w1_range = [120, 170]\n",
    "w0 = np.linspace(w0_range[0], w0_range[1], xn)\n",
    "w1 = np.linspace(w1_range[0], w1_range[1], xn)\n",
    "ww0, ww1 = np.meshgrid(w0, w1)"
   ]
  }
 ],
 "metadata": {
  "kernelspec": {
   "display_name": "Python 3",
   "language": "python",
   "name": "python3"
  },
  "language_info": {
   "codemirror_mode": {
    "name": "ipython",
    "version": 3
   },
   "file_extension": ".py",
   "mimetype": "text/x-python",
   "name": "python",
   "nbconvert_exporter": "python",
   "pygments_lexer": "ipython3",
   "version": "3.8.5"
  }
 },
 "nbformat": 4,
 "nbformat_minor": 5
}
