{
 "cells": [
  {
   "cell_type": "markdown",
   "id": "370f04a0-b42a-476c-b1d8-191eda0b74b5",
   "metadata": {},
   "source": [
    "`scipy.sparse.csgraph`の関数`shortest_path()`を使うとグラフの最短経路問題を解くことができる。単一始点最短経路問題にも全点対最短経路問題にも対応している\n",
    "\n",
    "(参考)\n",
    "https://note.nkmk.me/python-scipy-shortest-path/"
   ]
  },
  {
   "cell_type": "code",
   "execution_count": null,
   "id": "1ed077ac-7fef-4629-a0ab-dce44b3b39b9",
   "metadata": {},
   "outputs": [],
   "source": []
  }
 ],
 "metadata": {
  "kernelspec": {
   "display_name": "Python 3",
   "language": "python",
   "name": "python3"
  },
  "language_info": {
   "codemirror_mode": {
    "name": "ipython",
    "version": 3
   },
   "file_extension": ".py",
   "mimetype": "text/x-python",
   "name": "python",
   "nbconvert_exporter": "python",
   "pygments_lexer": "ipython3",
   "version": "3.8.5"
  }
 },
 "nbformat": 4,
 "nbformat_minor": 5
}
