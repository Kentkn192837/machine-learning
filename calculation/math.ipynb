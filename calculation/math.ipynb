{
 "cells": [
  {
   "cell_type": "code",
   "execution_count": 1,
   "id": "0b873f32-e4ca-4e4f-8a8b-2a2be5f733e9",
   "metadata": {},
   "outputs": [],
   "source": [
    "import numpy as np"
   ]
  },
  {
   "cell_type": "markdown",
   "id": "79fb6455-02aa-4aa7-9eac-614de4cb2a17",
   "metadata": {},
   "source": [
    "## 横ベクトル\n",
    "Numpyで横ベクトル\n",
    "$\n",
    "    \\boldsymbol{a} =\n",
    "        \\left[\\begin{array}{c}\n",
    "            2 & 1\n",
    "        \\end{array}\\right]\n",
    "$\n",
    "の表し方"
   ]
  },
  {
   "cell_type": "code",
   "execution_count": 2,
   "id": "41fed40c-022b-4d8e-a409-cc6548c3e9bf",
   "metadata": {},
   "outputs": [
    {
     "name": "stdout",
     "output_type": "stream",
     "text": [
      "[2 1]\n"
     ]
    }
   ],
   "source": [
    "a = np.array([2, 1])\n",
    "print(a)"
   ]
  },
  {
   "cell_type": "markdown",
   "id": "0d24c099-0a2a-4b87-89b4-c2f74c14aea6",
   "metadata": {},
   "source": [
    "## 縦ベクトル\n",
    "Numpyで縦ベクトル\n",
    "$\n",
    "    \\boldsymbol{b} =\n",
    "        \\left[\\begin{array}{c}\n",
    "            1 \\\\ 3\n",
    "        \\end{array}\\right]\n",
    "$\n",
    "の表し方"
   ]
  },
  {
   "cell_type": "code",
   "execution_count": 3,
   "id": "da81277a-2ded-4c84-8771-d97507a7863c",
   "metadata": {},
   "outputs": [
    {
     "name": "stdout",
     "output_type": "stream",
     "text": [
      "[[1]\n",
      " [3]]\n"
     ]
    }
   ],
   "source": [
    "b = np.array([[1], [3]])\n",
    "print(b)"
   ]
  },
  {
   "cell_type": "markdown",
   "id": "a4886762-17a6-43b5-89d5-77c201edbb96",
   "metadata": {},
   "source": [
    "## 転置\n",
    "$\n",
    "\\boldsymbol{a^T}=\n",
    "    \\left[\\begin{array}{cc}\n",
    "        2 & 1\n",
    "    \\end{array}\\right]^T=\n",
    "    \\left[\\begin{array}{c}\n",
    "        2 \\\\ 1\n",
    "    \\end{array}\\right]\n",
    "$"
   ]
  },
  {
   "cell_type": "code",
   "execution_count": 4,
   "id": "aae6cea5-6051-4143-9bba-6cca5146b422",
   "metadata": {},
   "outputs": [
    {
     "name": "stdout",
     "output_type": "stream",
     "text": [
      "[2 1] \n",
      "\n",
      "[[2]\n",
      " [1]]\n"
     ]
    }
   ],
   "source": [
    "a = np.array([2, 1])\n",
    "print(a.T, \"\\n\")               # 転置されない\n",
    "\n",
    "a = np.array([[2, 1]])   # この書き方で横ベクトルを表すと転置できる\n",
    "print(a.T)"
   ]
  }
 ],
 "metadata": {
  "kernelspec": {
   "display_name": "Python 3",
   "language": "python",
   "name": "python3"
  },
  "language_info": {
   "codemirror_mode": {
    "name": "ipython",
    "version": 3
   },
   "file_extension": ".py",
   "mimetype": "text/x-python",
   "name": "python",
   "nbconvert_exporter": "python",
   "pygments_lexer": "ipython3",
   "version": "3.8.5"
  }
 },
 "nbformat": 4,
 "nbformat_minor": 5
}
