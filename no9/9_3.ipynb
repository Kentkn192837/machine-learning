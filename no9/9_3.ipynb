{
 "cells": [
  {
   "cell_type": "markdown",
   "id": "157f2991-cb85-4811-afed-0ae7c42da6f9",
   "metadata": {},
   "source": [
    "# パーセプトロンの実装"
   ]
  },
  {
   "cell_type": "code",
   "execution_count": null,
   "id": "cf73dc10-81e5-4309-9ce4-79377740c232",
   "metadata": {},
   "outputs": [],
   "source": [
    "import numpy as np\n",
    "\n",
    "class Perceptron(object):\n",
    "    def __init__(self, lr=0.01, n_iter=10):\n",
    "        self.lr = lr\n",
    "        self.n_iter = n_iter\n",
    "    \n",
    "    def fit(self, X, y):\n",
    "        self.weights = np.zeros(X.shape[1])\n",
    "        self.bias = 0.0\n",
    "    \n",
    "    def predict(self, X):\n",
    "        return np.where(np.dot(X, self.weights) + self.bias >= 0.0, 1, -1)"
   ]
  }
 ],
 "metadata": {
  "kernelspec": {
   "display_name": "Python 3",
   "language": "python",
   "name": "python3"
  },
  "language_info": {
   "codemirror_mode": {
    "name": "ipython",
    "version": 3
   },
   "file_extension": ".py",
   "mimetype": "text/x-python",
   "name": "python",
   "nbconvert_exporter": "python",
   "pygments_lexer": "ipython3",
   "version": "3.8.5"
  }
 },
 "nbformat": 4,
 "nbformat_minor": 5
}
