{
 "cells": [
  {
   "cell_type": "markdown",
   "id": "6ff85d7c-f6de-4063-963d-32a4269bc481",
   "metadata": {},
   "source": [
    "# 交差検証(cross-validation)によるモデルの汎化性能評価\n",
    "## 交差検証方法\n",
    "- $k$-分割交差検証法\n",
    "\n",
    "ここで、$k$はユーザーが決めるパラメータで、通常は5または10を設定する。\n",
    "\n",
    "データを$k$分割し、$k-1$個のデータセットを学習セットに、残りの1個を評価セットにして、モデルを学習する。\n",
    "この一連の流れを全ての分割された1つのセットが一度は評価セットになるように$k$回学習を繰り返す。\n",
    "\n",
    "それぞれの繰り返しの中で、検証セットを使って精度を計算する。最終的には、すべての検証セットの精度の平均値を取って、そのモデルのスコアとする。"
   ]
  },
  {
   "cell_type": "markdown",
   "id": "9b1f292e-2d27-4c9c-9184-80095447454f",
   "metadata": {},
   "source": [
    "## 交差検証法を自力で実装\n",
    "### データセットの読み込み"
   ]
  },
  {
   "cell_type": "code",
   "execution_count": 1,
   "id": "89bcd323-9e1b-4e05-bfa0-6f20e858830b",
   "metadata": {},
   "outputs": [],
   "source": [
    "from sklearn.datasets import load_iris\n",
    "import numpy as np\n",
    "\n",
    "iris = load_iris()\n",
    "X = iris.data.astype(np.float32)\n",
    "y = iris.target"
   ]
  },
  {
   "cell_type": "markdown",
   "id": "0c8d9f73-7616-4b4b-bdf9-a432dd48e199",
   "metadata": {},
   "source": [
    "### データセットを同じ大きさに2分割"
   ]
  },
  {
   "cell_type": "code",
   "execution_count": 2,
   "id": "07051fef-4723-44c4-bed0-75657d264c10",
   "metadata": {},
   "outputs": [],
   "source": [
    "from sklearn.model_selection import train_test_split\n",
    "\n",
    "X_fold1, X_fold2, y_fold1, y_fold2 = train_test_split(X, y, random_state=42, train_size=0.5)"
   ]
  },
  {
   "cell_type": "markdown",
   "id": "171ac0b5-9e56-4292-87d4-4621398b442c",
   "metadata": {},
   "source": [
    "### 分類器の準備"
   ]
  },
  {
   "cell_type": "code",
   "execution_count": 3,
   "id": "ea4f5029-d8bc-4ec0-aa17-ce6e662f8267",
   "metadata": {},
   "outputs": [],
   "source": [
    "import cv2\n",
    "\n",
    "knn = cv2.ml.KNearest_create()\n",
    "knn.setDefaultK(1)"
   ]
  },
  {
   "cell_type": "markdown",
   "id": "f946b5fd-da86-4292-a741-663148feb2cb",
   "metadata": {},
   "source": [
    "### 1つ目の分割で分類器を学習して、2つ目の分割でラベルを予測する"
   ]
  },
  {
   "cell_type": "code",
   "execution_count": 4,
   "id": "88c441c7-0c96-4581-b968-92efbf4ef027",
   "metadata": {},
   "outputs": [],
   "source": [
    "knn.train(X_fold1, cv2.ml.ROW_SAMPLE, y_fold1)\n",
    "_, y_hat_fold2 = knn.predict(X_fold2)"
   ]
  },
  {
   "cell_type": "markdown",
   "id": "ba6808ad-bfb7-4d36-b88a-82e98c635f9b",
   "metadata": {},
   "source": [
    "### 2つ目の分割で分類器を学習して、1つ目の分割でラベルを予測する"
   ]
  },
  {
   "cell_type": "code",
   "execution_count": 5,
   "id": "8306c305-e5d9-4717-849f-f667a75801b4",
   "metadata": {},
   "outputs": [],
   "source": [
    "knn.train(X_fold2, cv2.ml.ROW_SAMPLE, y_fold2)\n",
    "_, y_hat_fold1 = knn.predict(X_fold1)"
   ]
  },
  {
   "cell_type": "markdown",
   "id": "dbcae4e1-c7c0-4927-9402-679208f51d81",
   "metadata": {},
   "source": [
    "### 各モデルの精度を算出"
   ]
  },
  {
   "cell_type": "code",
   "execution_count": 6,
   "id": "5f9cdb39-6bc4-4dac-9268-02b892c3790a",
   "metadata": {},
   "outputs": [
    {
     "data": {
      "text/plain": [
       "(0.9333333333333333, 0.9733333333333334)"
      ]
     },
     "execution_count": 6,
     "metadata": {},
     "output_type": "execute_result"
    }
   ],
   "source": [
    "from sklearn.metrics import accuracy_score\n",
    "\n",
    "accuracy_score(y_fold1, y_hat_fold1), accuracy_score(y_fold2, y_hat_fold2)"
   ]
  }
 ],
 "metadata": {
  "kernelspec": {
   "display_name": "Python 3",
   "language": "python",
   "name": "python3"
  },
  "language_info": {
   "codemirror_mode": {
    "name": "ipython",
    "version": 3
   },
   "file_extension": ".py",
   "mimetype": "text/x-python",
   "name": "python",
   "nbconvert_exporter": "python",
   "pygments_lexer": "ipython3",
   "version": "3.8.5"
  }
 },
 "nbformat": 4,
 "nbformat_minor": 5
}
