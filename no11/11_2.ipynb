{
 "cells": [
  {
   "cell_type": "markdown",
   "id": "6ff85d7c-f6de-4063-963d-32a4269bc481",
   "metadata": {},
   "source": [
    "# 交差検証(cross-validation)によるモデルの汎化性能評価\n",
    "## 交差検証方法\n",
    "- $k$-分割交差検証法\n",
    "\n",
    "ここで、$k$はユーザーが決めるパラメータで、通常は5または10を設定する。\n",
    "\n",
    "データを$k$分割し、$k-1$個のデータセットを学習セットに、残りの1個を評価セットにして、モデルを学習する。\n",
    "この一連の流れを全ての分割された1つのセットが一度は評価セットになるように$k$回学習を繰り返す。\n",
    "\n",
    "それぞれの繰り返しの中で、検証セットを使って精度を計算する。最終的には、すべての検証セットの精度の平均値を取って、そのモデルのスコアとする。"
   ]
  },
  {
   "cell_type": "code",
   "execution_count": null,
   "id": "14bfde5d-b2be-4a79-9b77-c495942dede7",
   "metadata": {},
   "outputs": [],
   "source": []
  }
 ],
 "metadata": {
  "kernelspec": {
   "display_name": "Python 3",
   "language": "python",
   "name": "python3"
  },
  "language_info": {
   "codemirror_mode": {
    "name": "ipython",
    "version": 3
   },
   "file_extension": ".py",
   "mimetype": "text/x-python",
   "name": "python",
   "nbconvert_exporter": "python",
   "pygments_lexer": "ipython3",
   "version": "3.8.5"
  }
 },
 "nbformat": 4,
 "nbformat_minor": 5
}
