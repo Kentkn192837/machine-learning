{
 "cells": [
  {
   "cell_type": "markdown",
   "id": "c666885f-e2b6-49ba-9217-9d1c4e409545",
   "metadata": {},
   "source": [
    "# 決定木による回帰問題解決"
   ]
  },
  {
   "cell_type": "code",
   "execution_count": 1,
   "id": "16bf891b-3907-4bc0-8336-8671fd4530a8",
   "metadata": {},
   "outputs": [],
   "source": [
    "import numpy as np\n",
    "import matplotlib.pyplot as plt\n",
    "from sklearn.tree import DecisionTreeRegressor\n",
    "%matplotlib inline\n",
    "\n",
    "rng = np.random.RandomState(42)"
   ]
  },
  {
   "cell_type": "markdown",
   "id": "d200b5e5-3685-4664-8ed8-6a695612ad9f",
   "metadata": {},
   "source": [
    "$0\\leqq x \\leqq 5$の範囲で入力点を100個生成し、対応する$sin$の値を計算する。"
   ]
  },
  {
   "cell_type": "code",
   "execution_count": 2,
   "id": "47c69d3e-beff-4483-9891-7ed4af01fe21",
   "metadata": {},
   "outputs": [
    {
     "data": {
      "text/plain": [
       "array([[ 0.02760708],\n",
       "       [ 0.10274086],\n",
       "       [ 0.12675374],\n",
       "       [ 0.17109663],\n",
       "       [ 0.22421402],\n",
       "       [ 0.2301697 ],\n",
       "       [ 0.2863528 ],\n",
       "       [ 0.31246965],\n",
       "       [ 0.31955324],\n",
       "       [ 0.36182357],\n",
       "       [ 0.36418096],\n",
       "       [ 0.42816613],\n",
       "       [ 0.46917873],\n",
       "       [ 0.5136703 ],\n",
       "       [ 0.54747619],\n",
       "       [ 0.5629669 ],\n",
       "       [ 0.57302415],\n",
       "       [ 0.64228004],\n",
       "       [ 0.64774523],\n",
       "       [ 0.70325994],\n",
       "       [ 0.70334567],\n",
       "       [ 0.75300739],\n",
       "       [ 0.78896631],\n",
       "       [ 0.7937943 ],\n",
       "       [ 0.79818258],\n",
       "       [ 0.83044964],\n",
       "       [ 0.83798406],\n",
       "       [ 0.84058858],\n",
       "       [ 0.87318314],\n",
       "       [ 0.9619085 ],\n",
       "       [ 0.97717839],\n",
       "       [ 0.98623315],\n",
       "       [ 0.99343481],\n",
       "       [ 0.99394807],\n",
       "       [ 0.99877091],\n",
       "       [ 0.99886126],\n",
       "       [ 0.99987384],\n",
       "       [ 0.99992508],\n",
       "       [ 0.99848126],\n",
       "       [ 0.9984405 ],\n",
       "       [ 0.99649972],\n",
       "       [ 0.97740741],\n",
       "       [ 0.97556191],\n",
       "       [ 0.96612909],\n",
       "       [ 0.95477201],\n",
       "       [ 0.93138759],\n",
       "       [ 0.84356508],\n",
       "       [ 0.83153619],\n",
       "       [ 0.80804746],\n",
       "       [ 0.75865278],\n",
       "       [ 0.7036476 ],\n",
       "       [ 0.6230333 ],\n",
       "       [ 0.6176162 ],\n",
       "       [ 0.53998599],\n",
       "       [ 0.51520991],\n",
       "       [ 0.50374496],\n",
       "       [ 0.49497885],\n",
       "       [ 0.41515415],\n",
       "       [ 0.39681216],\n",
       "       [ 0.32896434],\n",
       "       [ 0.17855712],\n",
       "       [ 0.15150706],\n",
       "       [ 0.14775724],\n",
       "       [ 0.13559858],\n",
       "       [ 0.10368173],\n",
       "       [ 0.08223521],\n",
       "       [ 0.02509938],\n",
       "       [-0.04617828],\n",
       "       [-0.17018634],\n",
       "       [-0.27594475],\n",
       "       [-0.3826788 ],\n",
       "       [-0.38828536],\n",
       "       [-0.41198484],\n",
       "       [-0.48244437],\n",
       "       [-0.48506565],\n",
       "       [-0.49547106],\n",
       "       [-0.61495791],\n",
       "       [-0.65428989],\n",
       "       [-0.65543548],\n",
       "       [-0.65910736],\n",
       "       [-0.66989805],\n",
       "       [-0.70632074],\n",
       "       [-0.7639369 ],\n",
       "       [-0.78357182],\n",
       "       [-0.80502315],\n",
       "       [-0.84260101],\n",
       "       [-0.85243263],\n",
       "       [-0.92227464],\n",
       "       [-0.92810414],\n",
       "       [-0.96206448],\n",
       "       [-0.97175194],\n",
       "       [-0.98628879],\n",
       "       [-0.99469836],\n",
       "       [-0.99988908],\n",
       "       [-0.9994868 ],\n",
       "       [-0.99915212],\n",
       "       [-0.993306  ],\n",
       "       [-0.9908293 ],\n",
       "       [-0.99060827],\n",
       "       [-0.97544897]])"
      ]
     },
     "execution_count": 2,
     "metadata": {},
     "output_type": "execute_result"
    }
   ],
   "source": [
    "X = np.sort(5 * rng.rand(100, 1), axis=0)\n",
    "y = np.sin(X)\n",
    "y"
   ]
  },
  {
   "cell_type": "code",
   "execution_count": 3,
   "id": "f897385b-9d1e-410e-b22e-dc0485c2076d",
   "metadata": {},
   "outputs": [
    {
     "data": {
      "text/plain": [
       "array([ 0.02760708,  0.10274086,  0.12675374,  0.17109663,  0.22421402,\n",
       "        0.2301697 ,  0.2863528 ,  0.31246965,  0.31955324,  0.36182357,\n",
       "        0.36418096,  0.42816613,  0.46917873,  0.5136703 ,  0.54747619,\n",
       "        0.5629669 ,  0.57302415,  0.64228004,  0.64774523,  0.70325994,\n",
       "        0.70334567,  0.75300739,  0.78896631,  0.7937943 ,  0.79818258,\n",
       "        0.83044964,  0.83798406,  0.84058858,  0.87318314,  0.9619085 ,\n",
       "        0.97717839,  0.98623315,  0.99343481,  0.99394807,  0.99877091,\n",
       "        0.99886126,  0.99987384,  0.99992508,  0.99848126,  0.9984405 ,\n",
       "        0.99649972,  0.97740741,  0.97556191,  0.96612909,  0.95477201,\n",
       "        0.93138759,  0.84356508,  0.83153619,  0.80804746,  0.75865278,\n",
       "        0.7036476 ,  0.6230333 ,  0.6176162 ,  0.53998599,  0.51520991,\n",
       "        0.50374496,  0.49497885,  0.41515415,  0.39681216,  0.32896434,\n",
       "        0.17855712,  0.15150706,  0.14775724,  0.13559858,  0.10368173,\n",
       "        0.08223521,  0.02509938, -0.04617828, -0.17018634, -0.27594475,\n",
       "       -0.3826788 , -0.38828536, -0.41198484, -0.48244437, -0.48506565,\n",
       "       -0.49547106, -0.61495791, -0.65428989, -0.65543548, -0.65910736,\n",
       "       -0.66989805, -0.70632074, -0.7639369 , -0.78357182, -0.80502315,\n",
       "       -0.84260101, -0.85243263, -0.92227464, -0.92810414, -0.96206448,\n",
       "       -0.97175194, -0.98628879, -0.99469836, -0.99988908, -0.9994868 ,\n",
       "       -0.99915212, -0.993306  , -0.9908293 , -0.99060827, -0.97544897])"
      ]
     },
     "execution_count": 3,
     "metadata": {},
     "output_type": "execute_result"
    }
   ],
   "source": [
    "# ravel()を利用することで、配列を一次元化する\n",
    "y = y.ravel()\n",
    "y"
   ]
  },
  {
   "cell_type": "markdown",
   "id": "adf7688d-e497-482f-af49-cdfe43432e09",
   "metadata": {},
   "source": [
    "$y$の値に対して、1つおきに(y[::2])ノイズを加える。ノイズの値は$0.5$"
   ]
  },
  {
   "cell_type": "code",
   "execution_count": 4,
   "id": "2dbe6f32-0ed7-4e8f-be28-1af80a310e9c",
   "metadata": {},
   "outputs": [
    {
     "data": {
      "text/plain": [
       "array([ 0.26189248,  0.10274086,  0.05854854,  0.17109663,  0.31703603,\n",
       "        0.2301697 ,  0.28206746,  0.31246965,  0.11577   ,  0.36182357,\n",
       "        0.48953484,  0.42816613,  0.51398727,  0.5136703 ,  0.41970062,\n",
       "        0.5629669 ,  0.70862506,  0.64228004,  0.85925527,  0.70325994,\n",
       "        0.80846995,  0.75300739,  0.95835567,  0.7937943 ,  0.58333376,\n",
       "        0.83044964,  0.68392387,  0.84058858,  0.80648126,  0.9619085 ,\n",
       "        0.79144809,  0.98623315,  0.84159877,  0.99394807,  1.15548588,\n",
       "        0.99886126,  0.80359434,  0.99992508,  0.97881014,  0.9984405 ,\n",
       "        0.84277964,  0.97740741,  0.77751626,  0.96612909,  1.04577027,\n",
       "        0.93138759,  1.03853912,  0.83153619,  0.94407987,  0.75865278,\n",
       "        0.7400937 ,  0.6230333 ,  0.45860881,  0.53998599,  0.33484462,\n",
       "        0.50374496,  0.74150279,  0.41515415,  0.39143851,  0.32896434,\n",
       "        0.21985162,  0.15150706,  0.28670333,  0.13559858,  0.29374904,\n",
       "        0.08223521,  0.1062918 , -0.04617828, -0.3916412 , -0.27594475,\n",
       "       -0.29428026, -0.38828536, -0.42138015, -0.48244437, -0.58657513,\n",
       "       -0.49547106, -0.54677271, -0.65428989, -0.89132652, -0.65910736,\n",
       "       -0.9011217 , -0.70632074, -0.63982805, -0.78357182, -0.8036474 ,\n",
       "       -0.84260101, -0.75287179, -0.92227464, -0.82052439, -0.96206448,\n",
       "       -0.74019541, -0.98628879, -1.04948052, -0.99988908, -1.00082632,\n",
       "       -0.99915212, -0.76904537, -0.9908293 , -0.8799315 , -0.97544897])"
      ]
     },
     "execution_count": 4,
     "metadata": {},
     "output_type": "execute_result"
    }
   ],
   "source": [
    "y[::2] += 0.5 * (0.5 - rng.rand(50))\n",
    "y"
   ]
  },
  {
   "cell_type": "code",
   "execution_count": 5,
   "id": "dda8d481-0a82-4902-bddf-8fc8e1b0d718",
   "metadata": {},
   "outputs": [
    {
     "data": {
      "text/plain": [
       "DecisionTreeRegressor(max_depth=5, min_impurity_decrease=1e-07, random_state=42)"
      ]
     },
     "execution_count": 5,
     "metadata": {},
     "output_type": "execute_result"
    }
   ],
   "source": [
    "regr1 = DecisionTreeRegressor(criterion='mse', max_depth=2,\n",
    "                              max_features=None, max_leaf_nodes=None,\n",
    "                              min_impurity_decrease=1e-7,\n",
    "                              min_samples_leaf=1, min_samples_split=2,\n",
    "                              random_state=42,\n",
    "                              splitter='best')\n",
    "regr2 = DecisionTreeRegressor(criterion='mse', max_depth=5,\n",
    "                              max_features=None, max_leaf_nodes=None,\n",
    "                              min_impurity_decrease=1e-7,\n",
    "                              min_samples_leaf=1, min_samples_split=2,\n",
    "                              random_state=42,\n",
    "                              splitter='best')\n",
    "\n",
    "regr1.fit(X, y)\n",
    "regr2.fit(X, y)"
   ]
  },
  {
   "cell_type": "code",
   "execution_count": 6,
   "id": "3c58842d-444c-4667-ba56-94a9f0ca0cf3",
   "metadata": {},
   "outputs": [
    {
     "data": {
      "text/plain": [
       "array([[0.  ],\n",
       "       [0.01],\n",
       "       [0.02],\n",
       "       [0.03],\n",
       "       [0.04],\n",
       "       [0.05],\n",
       "       [0.06],\n",
       "       [0.07],\n",
       "       [0.08],\n",
       "       [0.09]])"
      ]
     },
     "execution_count": 6,
     "metadata": {},
     "output_type": "execute_result"
    }
   ],
   "source": [
    "# テストデータの作成\n",
    "X_test = np.arange(0.0, 5.0, 0.01)[:, np.newaxis]\n",
    "X_test[:10]"
   ]
  },
  {
   "cell_type": "code",
   "execution_count": 7,
   "id": "208b64fa-53b5-41c1-be17-16f0a9efec7a",
   "metadata": {},
   "outputs": [],
   "source": [
    "y_1 = regr1.predict(X_test)\n",
    "y_2 = regr2.predict(X_test)"
   ]
  },
  {
   "cell_type": "code",
   "execution_count": 8,
   "id": "8a664d49-e35b-4cba-83cb-4f6d4fb86a89",
   "metadata": {},
   "outputs": [
    {
     "data": {
      "image/png": "[encoded data removed]",
      "text/plain": [
       "<Figure size 720x432 with 1 Axes>"
      ]
     },
     "metadata": {
      "needs_background": "light"
     },
     "output_type": "display_data"
    }
   ],
   "source": [
    "plt.figure(figsize=(10, 6))\n",
    "plt.scatter(X, y, color='k', s=20, label='data')\n",
    "plt.plot(X_test, y_1, label='max_depth=2', linewidth=5)\n",
    "plt.plot(X_test, y_2, label='max_depth=5', linewidth=3)\n",
    "plt.legend()\n",
    "plt.show()"
   ]
  },
  {
   "cell_type": "markdown",
   "id": "9dfdb505-ca6f-42a2-9dfa-c0202fd161c6",
   "metadata": {},
   "source": [
    "以上の結果から、深さ5の木の方が、より細かな粒度で正弦波を近似することができているが、グラフ右側に見られるようにノイズの影響を受けやすくなっている様子がうかがえる。"
   ]
  }
 ],
 "metadata": {
  "kernelspec": {
   "display_name": "Python 3",
   "language": "python",
   "name": "python3"
  },
  "language_info": {
   "codemirror_mode": {
    "name": "ipython",
    "version": 3
   },
   "file_extension": ".py",
   "mimetype": "text/x-python",
   "name": "python",
   "nbconvert_exporter": "python",
   "pygments_lexer": "ipython3",
   "version": "3.8.5"
  }
 },
 "nbformat": 4,
 "nbformat_minor": 5
}
