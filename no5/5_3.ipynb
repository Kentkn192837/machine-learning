{
 "cells": [
  {
   "cell_type": "markdown",
   "id": "c666885f-e2b6-49ba-9217-9d1c4e409545",
   "metadata": {},
   "source": [
    "# 決定木による回帰問題解決"
   ]
  },
  {
   "cell_type": "code",
   "execution_count": 2,
   "id": "16bf891b-3907-4bc0-8336-8671fd4530a8",
   "metadata": {},
   "outputs": [],
   "source": [
    "import numpy as np\n",
    "import matplotlib.pyplot as plt\n",
    "from sklearn.tree import DecisionTreeRegressor\n",
    "%matplotlib inline\n",
    "\n",
    "rng = np.random.RandomState(42)"
   ]
  },
  {
   "cell_type": "code",
   "execution_count": null,
   "id": "20590a64-6088-4e19-99fb-12bacc07a588",
   "metadata": {},
   "outputs": [],
   "source": []
  }
 ],
 "metadata": {
  "kernelspec": {
   "display_name": "Python 3",
   "language": "python",
   "name": "python3"
  },
  "language_info": {
   "codemirror_mode": {
    "name": "ipython",
    "version": 3
   },
   "file_extension": ".py",
   "mimetype": "text/x-python",
   "name": "python",
   "nbconvert_exporter": "python",
   "pygments_lexer": "ipython3",
   "version": "3.8.5"
  }
 },
 "nbformat": 4,
 "nbformat_minor": 5
}
